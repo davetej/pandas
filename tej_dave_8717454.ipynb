{
 "cells": [
  {
   "cell_type": "markdown",
   "id": "d44208d9",
   "metadata": {},
   "source": [
    "# Assignment-1 (Web Analytics)\n",
    "**Name: Tej Dave** <br><br>\n",
    "**Student ID: 8717454** <br><br>\n",
    "**Due Date: 10-11-2021**"
   ]
  },
  {
   "cell_type": "code",
   "execution_count": 66,
   "id": "4afe0d7b",
   "metadata": {},
   "outputs": [],
   "source": [
    "import pandas as pd\n",
    "import numpy as np"
   ]
  },
  {
   "cell_type": "markdown",
   "id": "6cf1f93f",
   "metadata": {},
   "source": [
    "# Step 1: Reading Dataset\n",
    "* Creating columns list that are required. \n",
    "* Reading csv \"Assignment1Data_Sample.csv\".\n",
    "* Using \"Object ID\" as an index."
   ]
  },
  {
   "cell_type": "code",
   "execution_count": 67,
   "id": "efdfa410",
   "metadata": {},
   "outputs": [
    {
     "data": {
      "text/html": [
       "<div>\n",
       "<style scoped>\n",
       "    .dataframe tbody tr th:only-of-type {\n",
       "        vertical-align: middle;\n",
       "    }\n",
       "\n",
       "    .dataframe tbody tr th {\n",
       "        vertical-align: top;\n",
       "    }\n",
       "\n",
       "    .dataframe thead th {\n",
       "        text-align: right;\n",
       "    }\n",
       "</style>\n",
       "<table border=\"1\" class=\"dataframe\">\n",
       "  <thead>\n",
       "    <tr style=\"text-align: right;\">\n",
       "      <th></th>\n",
       "      <th>Department</th>\n",
       "      <th>Object Name</th>\n",
       "      <th>Title</th>\n",
       "      <th>Culture</th>\n",
       "      <th>Artist Nationality</th>\n",
       "      <th>Object Begin Date</th>\n",
       "      <th>Object End Date</th>\n",
       "      <th>Medium</th>\n",
       "      <th>Credit Line</th>\n",
       "      <th>Country</th>\n",
       "    </tr>\n",
       "    <tr>\n",
       "      <th>Object ID</th>\n",
       "      <th></th>\n",
       "      <th></th>\n",
       "      <th></th>\n",
       "      <th></th>\n",
       "      <th></th>\n",
       "      <th></th>\n",
       "      <th></th>\n",
       "      <th></th>\n",
       "      <th></th>\n",
       "      <th></th>\n",
       "    </tr>\n",
       "  </thead>\n",
       "  <tbody>\n",
       "    <tr>\n",
       "      <th>1674</th>\n",
       "      <td>American Decorative Arts</td>\n",
       "      <td>Side Chair</td>\n",
       "      <td>Side Chair</td>\n",
       "      <td>American</td>\n",
       "      <td>NaN</td>\n",
       "      <td>1794</td>\n",
       "      <td>1799.0</td>\n",
       "      <td>Mahogany, ebony, ash, birch, white pine</td>\n",
       "      <td>Friends of the American Wing Fund, 1962</td>\n",
       "      <td>United States</td>\n",
       "    </tr>\n",
       "    <tr>\n",
       "      <th>2430</th>\n",
       "      <td>American Decorative Arts</td>\n",
       "      <td>Pitcher</td>\n",
       "      <td>Covered Pitcher</td>\n",
       "      <td>American</td>\n",
       "      <td>NaN</td>\n",
       "      <td>1700</td>\n",
       "      <td>1900.0</td>\n",
       "      <td>Earthenware</td>\n",
       "      <td>Rogers Fund, 1913</td>\n",
       "      <td>United States</td>\n",
       "    </tr>\n",
       "    <tr>\n",
       "      <th>6406</th>\n",
       "      <td>American Decorative Arts</td>\n",
       "      <td>Plate</td>\n",
       "      <td>Plate</td>\n",
       "      <td>Dutch</td>\n",
       "      <td>NaN</td>\n",
       "      <td>1740</td>\n",
       "      <td>1760.0</td>\n",
       "      <td>Earthenware</td>\n",
       "      <td>Rogers Fund, 1933</td>\n",
       "      <td>Netherlands</td>\n",
       "    </tr>\n",
       "    <tr>\n",
       "      <th>7616</th>\n",
       "      <td>American Decorative Arts</td>\n",
       "      <td>Soup bowl</td>\n",
       "      <td>Soup Bowl</td>\n",
       "      <td>American</td>\n",
       "      <td>NaN</td>\n",
       "      <td>1885</td>\n",
       "      <td>1885.0</td>\n",
       "      <td>Porcelain</td>\n",
       "      <td>Gift of Mr. and Mrs. Franklin Chace, 1969</td>\n",
       "      <td>United States</td>\n",
       "    </tr>\n",
       "    <tr>\n",
       "      <th>15012</th>\n",
       "      <td>American Decorative Arts</td>\n",
       "      <td>Painting, miniature</td>\n",
       "      <td>Portrait of a Lady</td>\n",
       "      <td>American</td>\n",
       "      <td>NaN</td>\n",
       "      <td>1840</td>\n",
       "      <td>1840.0</td>\n",
       "      <td>Watercolor on ivory</td>\n",
       "      <td>Fletcher Fund, 2006</td>\n",
       "      <td>NaN</td>\n",
       "    </tr>\n",
       "  </tbody>\n",
       "</table>\n",
       "</div>"
      ],
      "text/plain": [
       "                         Department          Object Name               Title  \\\n",
       "Object ID                                                                      \n",
       "1674       American Decorative Arts           Side Chair          Side Chair   \n",
       "2430       American Decorative Arts              Pitcher     Covered Pitcher   \n",
       "6406       American Decorative Arts                Plate               Plate   \n",
       "7616       American Decorative Arts            Soup bowl           Soup Bowl   \n",
       "15012      American Decorative Arts  Painting, miniature  Portrait of a Lady   \n",
       "\n",
       "            Culture Artist Nationality  Object Begin Date  Object End Date  \\\n",
       "Object ID                                                                    \n",
       "1674       American                NaN               1794           1799.0   \n",
       "2430       American                NaN               1700           1900.0   \n",
       "6406          Dutch                NaN               1740           1760.0   \n",
       "7616       American                NaN               1885           1885.0   \n",
       "15012      American                NaN               1840           1840.0   \n",
       "\n",
       "                                            Medium  \\\n",
       "Object ID                                            \n",
       "1674       Mahogany, ebony, ash, birch, white pine   \n",
       "2430                                   Earthenware   \n",
       "6406                                   Earthenware   \n",
       "7616                                     Porcelain   \n",
       "15012                          Watercolor on ivory   \n",
       "\n",
       "                                         Credit Line        Country  \n",
       "Object ID                                                            \n",
       "1674         Friends of the American Wing Fund, 1962  United States  \n",
       "2430                               Rogers Fund, 1913  United States  \n",
       "6406                               Rogers Fund, 1933    Netherlands  \n",
       "7616       Gift of Mr. and Mrs. Franklin Chace, 1969  United States  \n",
       "15012                            Fletcher Fund, 2006            NaN  "
      ]
     },
     "execution_count": 67,
     "metadata": {},
     "output_type": "execute_result"
    }
   ],
   "source": [
    "#reading in dataset \n",
    "\n",
    "#col to use in list \n",
    "col_ls = ['Object ID','Department','Object Name','Title','Culture','Artist Nationality',\n",
    "          'Object Begin Date','Object End Date','Medium','Credit Line','Country']\n",
    "\n",
    "museum_df = pd.read_csv('Assignment1Data_Sample.csv',index_col='Object ID',usecols=col_ls)\n",
    "\n",
    "#observing the head \n",
    "museum_df.head()"
   ]
  },
  {
   "cell_type": "code",
   "execution_count": 68,
   "id": "d71d5c2a",
   "metadata": {},
   "outputs": [
    {
     "data": {
      "text/plain": [
       "(204, 10)"
      ]
     },
     "execution_count": 68,
     "metadata": {},
     "output_type": "execute_result"
    }
   ],
   "source": [
    "museum_df.shape"
   ]
  },
  {
   "cell_type": "markdown",
   "id": "5fdec4be",
   "metadata": {},
   "source": [
    "* The Dataset has 204 total observations with total number of 11 columns(Including index)."
   ]
  },
  {
   "cell_type": "markdown",
   "id": "bceb4fb5",
   "metadata": {},
   "source": [
    "# Step 2: Checking for duplicate observations. "
   ]
  },
  {
   "cell_type": "code",
   "execution_count": 69,
   "id": "fa1c5b17",
   "metadata": {},
   "outputs": [
    {
     "data": {
      "text/plain": [
       "array([False, False, False, False, False, False, False, False, False,\n",
       "       False, False, False, False, False, False, False, False, False,\n",
       "       False, False, False, False, False, False, False, False, False,\n",
       "       False, False, False, False,  True, False, False, False, False,\n",
       "       False, False, False, False, False, False, False, False, False,\n",
       "       False, False, False, False, False, False, False, False, False,\n",
       "       False, False, False, False, False, False, False, False, False,\n",
       "       False, False, False, False, False, False, False, False, False,\n",
       "       False, False, False,  True, False, False, False, False, False,\n",
       "       False, False, False, False, False, False, False, False, False,\n",
       "       False, False, False, False, False, False, False, False, False,\n",
       "       False, False, False, False, False, False, False, False, False,\n",
       "       False, False, False, False, False, False, False, False, False,\n",
       "       False, False, False, False, False, False, False, False, False,\n",
       "       False, False, False, False, False, False, False, False, False,\n",
       "       False, False, False, False,  True, False, False, False, False,\n",
       "       False, False, False, False,  True, False, False, False, False,\n",
       "       False, False, False, False, False, False, False, False, False,\n",
       "       False, False, False, False, False, False, False, False, False,\n",
       "       False, False, False, False, False, False, False, False, False,\n",
       "       False, False, False, False, False, False, False, False, False,\n",
       "       False, False, False, False, False, False, False, False, False,\n",
       "       False, False, False, False, False, False])"
      ]
     },
     "execution_count": 69,
     "metadata": {},
     "output_type": "execute_result"
    }
   ],
   "source": [
    "museum_df.index.duplicated(keep='first')"
   ]
  },
  {
   "cell_type": "markdown",
   "id": "49ebe935",
   "metadata": {},
   "source": [
    "* Here, I have checked for duplicate observation. The return result with \"True\" as value are repeating observation."
   ]
  },
  {
   "cell_type": "code",
   "execution_count": 70,
   "id": "5ef8fe88",
   "metadata": {},
   "outputs": [
    {
     "data": {
      "text/html": [
       "<div>\n",
       "<style scoped>\n",
       "    .dataframe tbody tr th:only-of-type {\n",
       "        vertical-align: middle;\n",
       "    }\n",
       "\n",
       "    .dataframe tbody tr th {\n",
       "        vertical-align: top;\n",
       "    }\n",
       "\n",
       "    .dataframe thead th {\n",
       "        text-align: right;\n",
       "    }\n",
       "</style>\n",
       "<table border=\"1\" class=\"dataframe\">\n",
       "  <thead>\n",
       "    <tr style=\"text-align: right;\">\n",
       "      <th></th>\n",
       "      <th>Department</th>\n",
       "      <th>Object Name</th>\n",
       "      <th>Title</th>\n",
       "      <th>Culture</th>\n",
       "      <th>Artist Nationality</th>\n",
       "      <th>Object Begin Date</th>\n",
       "      <th>Object End Date</th>\n",
       "      <th>Medium</th>\n",
       "      <th>Credit Line</th>\n",
       "      <th>Country</th>\n",
       "    </tr>\n",
       "    <tr>\n",
       "      <th>Object ID</th>\n",
       "      <th></th>\n",
       "      <th></th>\n",
       "      <th></th>\n",
       "      <th></th>\n",
       "      <th></th>\n",
       "      <th></th>\n",
       "      <th></th>\n",
       "      <th></th>\n",
       "      <th></th>\n",
       "      <th></th>\n",
       "    </tr>\n",
       "  </thead>\n",
       "  <tbody>\n",
       "    <tr>\n",
       "      <th>100359</th>\n",
       "      <td>Costume Institute</td>\n",
       "      <td>Hat</td>\n",
       "      <td>Hat</td>\n",
       "      <td>French</td>\n",
       "      <td>French|French</td>\n",
       "      <td>1949</td>\n",
       "      <td>1949.0</td>\n",
       "      <td>wool, cotton</td>\n",
       "      <td>Gift of Mary S. Ryan, 1981</td>\n",
       "      <td>NaN</td>\n",
       "    </tr>\n",
       "    <tr>\n",
       "      <th>100359</th>\n",
       "      <td>Costume Institute</td>\n",
       "      <td>Hat</td>\n",
       "      <td>Hat</td>\n",
       "      <td>French</td>\n",
       "      <td>French|French</td>\n",
       "      <td>1949</td>\n",
       "      <td>1949.0</td>\n",
       "      <td>wool, cotton</td>\n",
       "      <td>Gift of Mary S. Ryan, 1981</td>\n",
       "      <td>NaN</td>\n",
       "    </tr>\n",
       "    <tr>\n",
       "      <th>316760</th>\n",
       "      <td>Arts of Africa, Oceania, and the Americas</td>\n",
       "      <td>Painting</td>\n",
       "      <td>Painting</td>\n",
       "      <td>Abelam people</td>\n",
       "      <td>NaN</td>\n",
       "      <td>1900</td>\n",
       "      <td>2000.0</td>\n",
       "      <td>Paper, paint</td>\n",
       "      <td>Gift of Lita Osmundsen, 1992</td>\n",
       "      <td>Papua New Guinea</td>\n",
       "    </tr>\n",
       "    <tr>\n",
       "      <th>316760</th>\n",
       "      <td>Arts of Africa, Oceania, and the Americas</td>\n",
       "      <td>Painting</td>\n",
       "      <td>Painting</td>\n",
       "      <td>Abelam people</td>\n",
       "      <td>NaN</td>\n",
       "      <td>1900</td>\n",
       "      <td>2000.0</td>\n",
       "      <td>Paper, paint</td>\n",
       "      <td>Gift of Lita Osmundsen, 1992</td>\n",
       "      <td>Papua New Guinea</td>\n",
       "    </tr>\n",
       "    <tr>\n",
       "      <th>486599</th>\n",
       "      <td>Modern and Contemporary Art</td>\n",
       "      <td>Bowl</td>\n",
       "      <td>\"Tard la Nuit\" Bowl</td>\n",
       "      <td>NaN</td>\n",
       "      <td>Italian</td>\n",
       "      <td>1989</td>\n",
       "      <td>1989.0</td>\n",
       "      <td>Glass</td>\n",
       "      <td>Gift of Peter T. Joseph, 1995</td>\n",
       "      <td>NaN</td>\n",
       "    </tr>\n",
       "    <tr>\n",
       "      <th>486599</th>\n",
       "      <td>Modern and Contemporary Art</td>\n",
       "      <td>Bowl</td>\n",
       "      <td>\"Tard la Nuit\" Bowl</td>\n",
       "      <td>NaN</td>\n",
       "      <td>Italian</td>\n",
       "      <td>1989</td>\n",
       "      <td>1989.0</td>\n",
       "      <td>Glass</td>\n",
       "      <td>Gift of Peter T. Joseph, 1995</td>\n",
       "      <td>NaN</td>\n",
       "    </tr>\n",
       "    <tr>\n",
       "      <th>563318</th>\n",
       "      <td>Egyptian Art</td>\n",
       "      <td>Jar Label</td>\n",
       "      <td>Jar label fragments</td>\n",
       "      <td>NaN</td>\n",
       "      <td>NaN</td>\n",
       "      <td>-1390</td>\n",
       "      <td>-1390.0</td>\n",
       "      <td>Pottery and ink, paint</td>\n",
       "      <td>Rogers Fund, 1917</td>\n",
       "      <td>Egypt</td>\n",
       "    </tr>\n",
       "    <tr>\n",
       "      <th>563318</th>\n",
       "      <td>Egyptian Art</td>\n",
       "      <td>Jar Label</td>\n",
       "      <td>Jar label fragments</td>\n",
       "      <td>NaN</td>\n",
       "      <td>NaN</td>\n",
       "      <td>-1390</td>\n",
       "      <td>-1390.0</td>\n",
       "      <td>Pottery and ink, paint</td>\n",
       "      <td>Rogers Fund, 1917</td>\n",
       "      <td>Egypt</td>\n",
       "    </tr>\n",
       "  </tbody>\n",
       "</table>\n",
       "</div>"
      ],
      "text/plain": [
       "                                          Department Object Name  \\\n",
       "Object ID                                                          \n",
       "100359                             Costume Institute         Hat   \n",
       "100359                             Costume Institute         Hat   \n",
       "316760     Arts of Africa, Oceania, and the Americas    Painting   \n",
       "316760     Arts of Africa, Oceania, and the Americas    Painting   \n",
       "486599                   Modern and Contemporary Art        Bowl   \n",
       "486599                   Modern and Contemporary Art        Bowl   \n",
       "563318                                  Egyptian Art   Jar Label   \n",
       "563318                                  Egyptian Art   Jar Label   \n",
       "\n",
       "                         Title        Culture Artist Nationality  \\\n",
       "Object ID                                                          \n",
       "100359                     Hat         French      French|French   \n",
       "100359                     Hat         French      French|French   \n",
       "316760                Painting  Abelam people                NaN   \n",
       "316760                Painting  Abelam people                NaN   \n",
       "486599     \"Tard la Nuit\" Bowl            NaN            Italian   \n",
       "486599     \"Tard la Nuit\" Bowl            NaN            Italian   \n",
       "563318     Jar label fragments            NaN                NaN   \n",
       "563318     Jar label fragments            NaN                NaN   \n",
       "\n",
       "           Object Begin Date  Object End Date                  Medium  \\\n",
       "Object ID                                                               \n",
       "100359                  1949           1949.0            wool, cotton   \n",
       "100359                  1949           1949.0            wool, cotton   \n",
       "316760                  1900           2000.0            Paper, paint   \n",
       "316760                  1900           2000.0            Paper, paint   \n",
       "486599                  1989           1989.0                   Glass   \n",
       "486599                  1989           1989.0                   Glass   \n",
       "563318                 -1390          -1390.0  Pottery and ink, paint   \n",
       "563318                 -1390          -1390.0  Pottery and ink, paint   \n",
       "\n",
       "                             Credit Line           Country  \n",
       "Object ID                                                   \n",
       "100359        Gift of Mary S. Ryan, 1981               NaN  \n",
       "100359        Gift of Mary S. Ryan, 1981               NaN  \n",
       "316760      Gift of Lita Osmundsen, 1992  Papua New Guinea  \n",
       "316760      Gift of Lita Osmundsen, 1992  Papua New Guinea  \n",
       "486599     Gift of Peter T. Joseph, 1995               NaN  \n",
       "486599     Gift of Peter T. Joseph, 1995               NaN  \n",
       "563318                 Rogers Fund, 1917             Egypt  \n",
       "563318                 Rogers Fund, 1917             Egypt  "
      ]
     },
     "execution_count": 70,
     "metadata": {},
     "output_type": "execute_result"
    }
   ],
   "source": [
    "#Found repetative unique identifier and observation values\n",
    "\n",
    "museum_df[museum_df.index.duplicated(keep=False)]"
   ]
  },
  {
   "cell_type": "markdown",
   "id": "d34be66d",
   "metadata": {},
   "source": [
    "* Checking for the duplicate observations by subsetting dataset."
   ]
  },
  {
   "cell_type": "code",
   "execution_count": 71,
   "id": "6a400538",
   "metadata": {},
   "outputs": [],
   "source": [
    "#remving duplicate values by keeping the first occurance one and using inplace to reflect the changes into main memory\n",
    "\n",
    "museum_df.drop_duplicates(subset=None, keep='first', inplace=True, ignore_index=False)"
   ]
  },
  {
   "cell_type": "markdown",
   "id": "cc206147",
   "metadata": {},
   "source": [
    "* Here the first occurance of the repeating observation is kept and set are dropped from the dataset to have **NO Redundant Data**."
   ]
  },
  {
   "cell_type": "code",
   "execution_count": 72,
   "id": "e8033e97",
   "metadata": {},
   "outputs": [
    {
     "data": {
      "text/plain": [
       "array([False, False, False, False, False, False, False, False, False,\n",
       "       False, False, False, False, False, False, False, False, False,\n",
       "       False, False, False, False, False, False, False, False, False,\n",
       "       False, False, False, False, False, False, False, False, False,\n",
       "       False, False, False, False, False, False, False, False, False,\n",
       "       False, False, False, False, False, False, False, False, False,\n",
       "       False, False, False, False, False, False, False, False, False,\n",
       "       False, False, False, False, False, False, False, False, False,\n",
       "       False, False, False, False, False, False, False, False, False,\n",
       "       False, False, False, False, False, False, False, False, False,\n",
       "       False, False, False, False, False, False, False, False, False,\n",
       "       False, False, False, False, False, False, False, False, False,\n",
       "       False, False, False, False, False, False, False, False, False,\n",
       "       False, False, False, False, False, False, False, False, False,\n",
       "       False, False, False, False, False, False, False, False, False,\n",
       "       False, False, False, False, False, False, False, False, False,\n",
       "       False, False, False, False, False, False, False, False, False,\n",
       "       False, False, False, False, False, False, False, False, False,\n",
       "       False, False, False, False, False, False, False, False, False,\n",
       "       False, False, False, False, False, False, False, False, False,\n",
       "       False, False, False, False, False, False, False, False, False,\n",
       "       False, False, False, False, False, False, False, False, False,\n",
       "       False])"
      ]
     },
     "execution_count": 72,
     "metadata": {},
     "output_type": "execute_result"
    }
   ],
   "source": [
    "#checking for any duplication after removing the repeating indexes observations.\n",
    "\n",
    "museum_df.index.duplicated(keep='first')"
   ]
  },
  {
   "cell_type": "markdown",
   "id": "03ef5e6f",
   "metadata": {},
   "source": [
    "* Rechecking for any more duplications. No more found."
   ]
  },
  {
   "cell_type": "markdown",
   "id": "50c326fc",
   "metadata": {},
   "source": [
    "museum_df.head()"
   ]
  },
  {
   "cell_type": "code",
   "execution_count": 73,
   "id": "194b5fd6",
   "metadata": {},
   "outputs": [
    {
     "name": "stdout",
     "output_type": "stream",
     "text": [
      "<class 'pandas.core.frame.DataFrame'>\n",
      "Int64Index: 199 entries, 1674 to 824428\n",
      "Data columns (total 10 columns):\n",
      " #   Column              Non-Null Count  Dtype  \n",
      "---  ------              --------------  -----  \n",
      " 0   Department          198 non-null    object \n",
      " 1   Object Name         198 non-null    object \n",
      " 2   Title               189 non-null    object \n",
      " 3   Culture             81 non-null     object \n",
      " 4   Artist Nationality  85 non-null     object \n",
      " 5   Object Begin Date   199 non-null    int64  \n",
      " 6   Object End Date     197 non-null    float64\n",
      " 7   Medium              197 non-null    object \n",
      " 8   Credit Line         199 non-null    object \n",
      " 9   Country             30 non-null     object \n",
      "dtypes: float64(1), int64(1), object(8)\n",
      "memory usage: 17.0+ KB\n"
     ]
    }
   ],
   "source": [
    "museum_df.info()"
   ]
  },
  {
   "cell_type": "markdown",
   "id": "11c7105e",
   "metadata": {},
   "source": [
    "* Checking the datatypes of the features for getting brief information about the **Null data, and datatypes of the columns**. "
   ]
  },
  {
   "cell_type": "markdown",
   "id": "7f308646",
   "metadata": {},
   "source": [
    "# Step 3: Object Begin and End date fields processing."
   ]
  },
  {
   "cell_type": "code",
   "execution_count": 74,
   "id": "bab2e873",
   "metadata": {},
   "outputs": [
    {
     "data": {
      "text/plain": [
       "Department             object\n",
       "Object Name            object\n",
       "Title                  object\n",
       "Culture                object\n",
       "Artist Nationality     object\n",
       "Object Begin Date       int64\n",
       "Object End Date       float64\n",
       "Medium                 object\n",
       "Credit Line            object\n",
       "Country                object\n",
       "dtype: object"
      ]
     },
     "execution_count": 74,
     "metadata": {},
     "output_type": "execute_result"
    }
   ],
   "source": [
    "#checking converted datatype\n",
    "\n",
    "museum_df.dtypes"
   ]
  },
  {
   "cell_type": "markdown",
   "id": "fc7f83d3",
   "metadata": {},
   "source": [
    "* Checking the data type of the column **Object End Date** and **Object Begin Date**."
   ]
  },
  {
   "cell_type": "code",
   "execution_count": 75,
   "id": "195f3616",
   "metadata": {},
   "outputs": [
    {
     "data": {
      "text/html": [
       "<div>\n",
       "<style scoped>\n",
       "    .dataframe tbody tr th:only-of-type {\n",
       "        vertical-align: middle;\n",
       "    }\n",
       "\n",
       "    .dataframe tbody tr th {\n",
       "        vertical-align: top;\n",
       "    }\n",
       "\n",
       "    .dataframe thead th {\n",
       "        text-align: right;\n",
       "    }\n",
       "</style>\n",
       "<table border=\"1\" class=\"dataframe\">\n",
       "  <thead>\n",
       "    <tr style=\"text-align: right;\">\n",
       "      <th></th>\n",
       "      <th>Department</th>\n",
       "      <th>Object Name</th>\n",
       "      <th>Title</th>\n",
       "      <th>Culture</th>\n",
       "      <th>Artist Nationality</th>\n",
       "      <th>Object Begin Date</th>\n",
       "      <th>Object End Date</th>\n",
       "      <th>Medium</th>\n",
       "      <th>Credit Line</th>\n",
       "      <th>Country</th>\n",
       "    </tr>\n",
       "    <tr>\n",
       "      <th>Object ID</th>\n",
       "      <th></th>\n",
       "      <th></th>\n",
       "      <th></th>\n",
       "      <th></th>\n",
       "      <th></th>\n",
       "      <th></th>\n",
       "      <th></th>\n",
       "      <th></th>\n",
       "      <th></th>\n",
       "      <th></th>\n",
       "    </tr>\n",
       "  </thead>\n",
       "  <tbody>\n",
       "    <tr>\n",
       "      <th>43092</th>\n",
       "      <td>Asian Art</td>\n",
       "      <td>Girdle ornament</td>\n",
       "      <td>NaN</td>\n",
       "      <td>China</td>\n",
       "      <td>NaN</td>\n",
       "      <td>-206</td>\n",
       "      <td>NaN</td>\n",
       "      <td>Jade</td>\n",
       "      <td>Gift of Samuel T. Peters, 1913</td>\n",
       "      <td>NaN</td>\n",
       "    </tr>\n",
       "    <tr>\n",
       "      <th>378518</th>\n",
       "      <td>Drawings and Prints</td>\n",
       "      <td>Drawing</td>\n",
       "      <td>Design for Vis-à-vis, no. 3223</td>\n",
       "      <td>NaN</td>\n",
       "      <td>American</td>\n",
       "      <td>1876</td>\n",
       "      <td>NaN</td>\n",
       "      <td>Pen and black ink, watercolor and gouache with...</td>\n",
       "      <td>Gift of William Brewster, 1923</td>\n",
       "      <td>NaN</td>\n",
       "    </tr>\n",
       "  </tbody>\n",
       "</table>\n",
       "</div>"
      ],
      "text/plain": [
       "                    Department      Object Name  \\\n",
       "Object ID                                         \n",
       "43092                Asian Art  Girdle ornament   \n",
       "378518     Drawings and Prints          Drawing   \n",
       "\n",
       "                                    Title Culture Artist Nationality  \\\n",
       "Object ID                                                              \n",
       "43092                                 NaN   China                NaN   \n",
       "378518     Design for Vis-à-vis, no. 3223     NaN           American   \n",
       "\n",
       "           Object Begin Date  Object End Date  \\\n",
       "Object ID                                       \n",
       "43092                   -206              NaN   \n",
       "378518                  1876              NaN   \n",
       "\n",
       "                                                      Medium  \\\n",
       "Object ID                                                      \n",
       "43092                                                   Jade   \n",
       "378518     Pen and black ink, watercolor and gouache with...   \n",
       "\n",
       "                              Credit Line Country  \n",
       "Object ID                                          \n",
       "43092      Gift of Samuel T. Peters, 1913     NaN  \n",
       "378518     Gift of William Brewster, 1923     NaN  "
      ]
     },
     "execution_count": 75,
     "metadata": {},
     "output_type": "execute_result"
    }
   ],
   "source": [
    "museum_df[museum_df['Object Begin Date'].isna() |\n",
    "       museum_df['Object End Date'].isna()]"
   ]
  },
  {
   "cell_type": "markdown",
   "id": "a433abb4",
   "metadata": {},
   "source": [
    "* looking into the result of the info() method we come to know, there are some missing/NaN values in the column. Here I have filter the data to get subset having NaN values."
   ]
  },
  {
   "cell_type": "code",
   "execution_count": 76,
   "id": "9b1017a3",
   "metadata": {},
   "outputs": [],
   "source": [
    "#checking for any observation with null values from columns Object Begin Date and Object End Date\n",
    "\n",
    "\n",
    "#dropping such columns \n",
    "museum_df.drop(museum_df[museum_df['Object Begin Date'].isna() |\n",
    "        museum_df['Object End Date'].isna()].index, axis=0,inplace=True)"
   ]
  },
  {
   "cell_type": "markdown",
   "id": "1e900248",
   "metadata": {},
   "source": [
    "* The filter applied is to get the subset of df that has null or missing value on either of one columns (Object begin date and Object end date).\n",
    "\n",
    "* It's hard to determine informative data for missing values. Hence, I have dropped the 2 observations\n",
    "\n",
    "**NOTE: I have not removed negative date year, B.C. year. as by observing  the relation of years with negative sign and \"Obejct Date\" column, it represent B. C. Year.**"
   ]
  },
  {
   "cell_type": "code",
   "execution_count": 77,
   "id": "65a6614a",
   "metadata": {},
   "outputs": [],
   "source": [
    "#converting to \"Object End Date\" to int type \n",
    "\n",
    "museum_df['Object End Date'] = museum_df['Object End Date'].astype('int64')"
   ]
  },
  {
   "cell_type": "markdown",
   "id": "1d11f5e4",
   "metadata": {},
   "source": [
    "**The datetime datatype has limitation in a range as it can not determine B.C. Years. Hence I have converted the datatype to int64 to make both date column have same type.**"
   ]
  },
  {
   "cell_type": "code",
   "execution_count": 78,
   "id": "e89a6192",
   "metadata": {
    "scrolled": true
   },
   "outputs": [
    {
     "name": "stdout",
     "output_type": "stream",
     "text": [
      "<class 'pandas.core.frame.DataFrame'>\n",
      "Int64Index: 197 entries, 1674 to 824428\n",
      "Data columns (total 10 columns):\n",
      " #   Column              Non-Null Count  Dtype \n",
      "---  ------              --------------  ----- \n",
      " 0   Department          196 non-null    object\n",
      " 1   Object Name         196 non-null    object\n",
      " 2   Title               188 non-null    object\n",
      " 3   Culture             80 non-null     object\n",
      " 4   Artist Nationality  84 non-null     object\n",
      " 5   Object Begin Date   197 non-null    int64 \n",
      " 6   Object End Date     197 non-null    int64 \n",
      " 7   Medium              195 non-null    object\n",
      " 8   Credit Line         197 non-null    object\n",
      " 9   Country             30 non-null     object\n",
      "dtypes: int64(2), object(8)\n",
      "memory usage: 10.8+ KB\n"
     ]
    }
   ],
   "source": [
    "museum_df.info()"
   ]
  },
  {
   "cell_type": "code",
   "execution_count": 79,
   "id": "8a1b7e07",
   "metadata": {},
   "outputs": [],
   "source": [
    "museum_df.drop(museum_df[museum_df['Object Begin Date']==0].index, axis=0,inplace=True)\n",
    "\n"
   ]
  },
  {
   "cell_type": "code",
   "execution_count": 80,
   "id": "2b9763b4",
   "metadata": {},
   "outputs": [],
   "source": [
    "museum_df.drop(museum_df[museum_df['Object End Date']==0].index, axis=0,inplace=True)"
   ]
  },
  {
   "cell_type": "markdown",
   "id": "bfc0f22a",
   "metadata": {},
   "source": [
    "* It is been observed that there is 0 as a year in one of the observation, which make no contribution to the dataset. Hence, It is been dropped out of the dataset."
   ]
  },
  {
   "cell_type": "code",
   "execution_count": 81,
   "id": "332c455e",
   "metadata": {},
   "outputs": [
    {
     "data": {
      "text/html": [
       "<div>\n",
       "<style scoped>\n",
       "    .dataframe tbody tr th:only-of-type {\n",
       "        vertical-align: middle;\n",
       "    }\n",
       "\n",
       "    .dataframe tbody tr th {\n",
       "        vertical-align: top;\n",
       "    }\n",
       "\n",
       "    .dataframe thead th {\n",
       "        text-align: right;\n",
       "    }\n",
       "</style>\n",
       "<table border=\"1\" class=\"dataframe\">\n",
       "  <thead>\n",
       "    <tr style=\"text-align: right;\">\n",
       "      <th></th>\n",
       "      <th>Department</th>\n",
       "      <th>Object Name</th>\n",
       "      <th>Title</th>\n",
       "      <th>Culture</th>\n",
       "      <th>Artist Nationality</th>\n",
       "      <th>Object Begin Date</th>\n",
       "      <th>Object End Date</th>\n",
       "      <th>Medium</th>\n",
       "      <th>Credit Line</th>\n",
       "      <th>Country</th>\n",
       "    </tr>\n",
       "    <tr>\n",
       "      <th>Object ID</th>\n",
       "      <th></th>\n",
       "      <th></th>\n",
       "      <th></th>\n",
       "      <th></th>\n",
       "      <th></th>\n",
       "      <th></th>\n",
       "      <th></th>\n",
       "      <th></th>\n",
       "      <th></th>\n",
       "      <th></th>\n",
       "    </tr>\n",
       "  </thead>\n",
       "  <tbody>\n",
       "    <tr>\n",
       "      <th>1674</th>\n",
       "      <td>American Decorative Arts</td>\n",
       "      <td>Side Chair</td>\n",
       "      <td>Side Chair</td>\n",
       "      <td>American</td>\n",
       "      <td>NaN</td>\n",
       "      <td>1794</td>\n",
       "      <td>1799</td>\n",
       "      <td>Mahogany, ebony, ash, birch, white pine</td>\n",
       "      <td>Friends of the American Wing Fund, 1962</td>\n",
       "      <td>United States</td>\n",
       "    </tr>\n",
       "    <tr>\n",
       "      <th>2430</th>\n",
       "      <td>American Decorative Arts</td>\n",
       "      <td>Pitcher</td>\n",
       "      <td>Covered Pitcher</td>\n",
       "      <td>American</td>\n",
       "      <td>NaN</td>\n",
       "      <td>1700</td>\n",
       "      <td>1900</td>\n",
       "      <td>Earthenware</td>\n",
       "      <td>Rogers Fund, 1913</td>\n",
       "      <td>United States</td>\n",
       "    </tr>\n",
       "    <tr>\n",
       "      <th>6406</th>\n",
       "      <td>American Decorative Arts</td>\n",
       "      <td>Plate</td>\n",
       "      <td>Plate</td>\n",
       "      <td>Dutch</td>\n",
       "      <td>NaN</td>\n",
       "      <td>1740</td>\n",
       "      <td>1760</td>\n",
       "      <td>Earthenware</td>\n",
       "      <td>Rogers Fund, 1933</td>\n",
       "      <td>Netherlands</td>\n",
       "    </tr>\n",
       "    <tr>\n",
       "      <th>7616</th>\n",
       "      <td>American Decorative Arts</td>\n",
       "      <td>Soup bowl</td>\n",
       "      <td>Soup Bowl</td>\n",
       "      <td>American</td>\n",
       "      <td>NaN</td>\n",
       "      <td>1885</td>\n",
       "      <td>1885</td>\n",
       "      <td>Porcelain</td>\n",
       "      <td>Gift of Mr. and Mrs. Franklin Chace, 1969</td>\n",
       "      <td>United States</td>\n",
       "    </tr>\n",
       "    <tr>\n",
       "      <th>15012</th>\n",
       "      <td>American Decorative Arts</td>\n",
       "      <td>Painting, miniature</td>\n",
       "      <td>Portrait of a Lady</td>\n",
       "      <td>American</td>\n",
       "      <td>NaN</td>\n",
       "      <td>1840</td>\n",
       "      <td>1840</td>\n",
       "      <td>Watercolor on ivory</td>\n",
       "      <td>Fletcher Fund, 2006</td>\n",
       "      <td>NaN</td>\n",
       "    </tr>\n",
       "  </tbody>\n",
       "</table>\n",
       "</div>"
      ],
      "text/plain": [
       "                         Department          Object Name               Title  \\\n",
       "Object ID                                                                      \n",
       "1674       American Decorative Arts           Side Chair          Side Chair   \n",
       "2430       American Decorative Arts              Pitcher     Covered Pitcher   \n",
       "6406       American Decorative Arts                Plate               Plate   \n",
       "7616       American Decorative Arts            Soup bowl           Soup Bowl   \n",
       "15012      American Decorative Arts  Painting, miniature  Portrait of a Lady   \n",
       "\n",
       "            Culture Artist Nationality  Object Begin Date  Object End Date  \\\n",
       "Object ID                                                                    \n",
       "1674       American                NaN               1794             1799   \n",
       "2430       American                NaN               1700             1900   \n",
       "6406          Dutch                NaN               1740             1760   \n",
       "7616       American                NaN               1885             1885   \n",
       "15012      American                NaN               1840             1840   \n",
       "\n",
       "                                            Medium  \\\n",
       "Object ID                                            \n",
       "1674       Mahogany, ebony, ash, birch, white pine   \n",
       "2430                                   Earthenware   \n",
       "6406                                   Earthenware   \n",
       "7616                                     Porcelain   \n",
       "15012                          Watercolor on ivory   \n",
       "\n",
       "                                         Credit Line        Country  \n",
       "Object ID                                                            \n",
       "1674         Friends of the American Wing Fund, 1962  United States  \n",
       "2430                               Rogers Fund, 1913  United States  \n",
       "6406                               Rogers Fund, 1933    Netherlands  \n",
       "7616       Gift of Mr. and Mrs. Franklin Chace, 1969  United States  \n",
       "15012                            Fletcher Fund, 2006            NaN  "
      ]
     },
     "execution_count": 81,
     "metadata": {},
     "output_type": "execute_result"
    }
   ],
   "source": [
    "museum_df.head()"
   ]
  },
  {
   "cell_type": "markdown",
   "id": "ace0aa41",
   "metadata": {},
   "source": [
    "# Step 4:Processing Department Feature"
   ]
  },
  {
   "cell_type": "code",
   "execution_count": 82,
   "id": "8caf7425",
   "metadata": {
    "scrolled": true
   },
   "outputs": [
    {
     "name": "stdout",
     "output_type": "stream",
     "text": [
      "<class 'pandas.core.frame.DataFrame'>\n",
      "Int64Index: 196 entries, 1674 to 824428\n",
      "Data columns (total 10 columns):\n",
      " #   Column              Non-Null Count  Dtype \n",
      "---  ------              --------------  ----- \n",
      " 0   Department          195 non-null    object\n",
      " 1   Object Name         195 non-null    object\n",
      " 2   Title               187 non-null    object\n",
      " 3   Culture             80 non-null     object\n",
      " 4   Artist Nationality  84 non-null     object\n",
      " 5   Object Begin Date   196 non-null    int64 \n",
      " 6   Object End Date     196 non-null    int64 \n",
      " 7   Medium              194 non-null    object\n",
      " 8   Credit Line         196 non-null    object\n",
      " 9   Country             29 non-null     object\n",
      "dtypes: int64(2), object(8)\n",
      "memory usage: 13.8+ KB\n"
     ]
    }
   ],
   "source": [
    "#checking for null values and datatype of Department column\n",
    "\n",
    "museum_df.info()\n",
    "\n",
    "#It has 1 null value observation and need to type cast to Categorical"
   ]
  },
  {
   "cell_type": "markdown",
   "id": "6189c897",
   "metadata": {},
   "source": [
    "* Checking brief information about the column Department. It is type Object and has 1 missing value."
   ]
  },
  {
   "cell_type": "code",
   "execution_count": 83,
   "id": "fefb7f51",
   "metadata": {
    "scrolled": true
   },
   "outputs": [
    {
     "data": {
      "text/html": [
       "<div>\n",
       "<style scoped>\n",
       "    .dataframe tbody tr th:only-of-type {\n",
       "        vertical-align: middle;\n",
       "    }\n",
       "\n",
       "    .dataframe tbody tr th {\n",
       "        vertical-align: top;\n",
       "    }\n",
       "\n",
       "    .dataframe thead th {\n",
       "        text-align: right;\n",
       "    }\n",
       "</style>\n",
       "<table border=\"1\" class=\"dataframe\">\n",
       "  <thead>\n",
       "    <tr style=\"text-align: right;\">\n",
       "      <th></th>\n",
       "      <th>Department</th>\n",
       "      <th>Object Name</th>\n",
       "      <th>Title</th>\n",
       "      <th>Culture</th>\n",
       "      <th>Artist Nationality</th>\n",
       "      <th>Object Begin Date</th>\n",
       "      <th>Object End Date</th>\n",
       "      <th>Medium</th>\n",
       "      <th>Credit Line</th>\n",
       "      <th>Country</th>\n",
       "    </tr>\n",
       "    <tr>\n",
       "      <th>Object ID</th>\n",
       "      <th></th>\n",
       "      <th></th>\n",
       "      <th></th>\n",
       "      <th></th>\n",
       "      <th></th>\n",
       "      <th></th>\n",
       "      <th></th>\n",
       "      <th></th>\n",
       "      <th></th>\n",
       "      <th></th>\n",
       "    </tr>\n",
       "  </thead>\n",
       "  <tbody>\n",
       "    <tr>\n",
       "      <th>317005</th>\n",
       "      <td>NaN</td>\n",
       "      <td>Cloth</td>\n",
       "      <td>Carrying Cloth</td>\n",
       "      <td>Quechua</td>\n",
       "      <td>NaN</td>\n",
       "      <td>1900</td>\n",
       "      <td>2000</td>\n",
       "      <td>Camelid hair</td>\n",
       "      <td>Bequest of Arthur M. Bullowa, 1993</td>\n",
       "      <td>Peru</td>\n",
       "    </tr>\n",
       "  </tbody>\n",
       "</table>\n",
       "</div>"
      ],
      "text/plain": [
       "          Department Object Name           Title  Culture Artist Nationality  \\\n",
       "Object ID                                                                      \n",
       "317005           NaN       Cloth  Carrying Cloth  Quechua                NaN   \n",
       "\n",
       "           Object Begin Date  Object End Date        Medium  \\\n",
       "Object ID                                                     \n",
       "317005                  1900             2000  Camelid hair   \n",
       "\n",
       "                                    Credit Line Country  \n",
       "Object ID                                                \n",
       "317005     Bequest of Arthur M. Bullowa, 1993      Peru  "
      ]
     },
     "execution_count": 83,
     "metadata": {},
     "output_type": "execute_result"
    }
   ],
   "source": [
    "#checking the NaN valued observation\n",
    "\n",
    "museum_df[museum_df['Department'].isnull()]"
   ]
  },
  {
   "cell_type": "markdown",
   "id": "a9b68c56",
   "metadata": {},
   "source": [
    "* **The result shows the observation have no Department value.**"
   ]
  },
  {
   "cell_type": "code",
   "execution_count": 84,
   "id": "9ac0dff2",
   "metadata": {},
   "outputs": [
    {
     "data": {
      "text/plain": [
       "Drawings and Prints                          78\n",
       "Costume Institute                            19\n",
       "Photographs                                  15\n",
       "European Sculpture and Decorative Arts       14\n",
       "Greek and Roman Art                          11\n",
       "Asian Art                                    10\n",
       "Egyptian Art                                 10\n",
       "Arms and Armor                                7\n",
       "Arts of Africa, Oceania, and the Americas     6\n",
       "Modern and Contemporary Art                   6\n",
       "American Decorative Arts                      5\n",
       "Islamic Art                                   4\n",
       "Ancient Near Eastern Art                      3\n",
       "Medieval Art                                  3\n",
       "The Cloisters                                 3\n",
       "Robert Lehman Collection                      1\n",
       "Name: Department, dtype: int64"
      ]
     },
     "execution_count": 84,
     "metadata": {},
     "output_type": "execute_result"
    }
   ],
   "source": [
    "#checking Department types\n",
    "\n",
    "museum_df['Department'].value_counts()"
   ]
  },
  {
   "cell_type": "code",
   "execution_count": 85,
   "id": "b08cdbc5",
   "metadata": {},
   "outputs": [],
   "source": [
    "museum_df['Department'].fillna('Others',inplace=True)"
   ]
  },
  {
   "cell_type": "markdown",
   "id": "253082ea",
   "metadata": {},
   "source": [
    "* Filling NaN with value **\"Others\"** by adding new department"
   ]
  },
  {
   "cell_type": "code",
   "execution_count": 86,
   "id": "7c8668a4",
   "metadata": {},
   "outputs": [],
   "source": [
    "museum_df['Department'] = museum_df['Department'].astype('category')"
   ]
  },
  {
   "cell_type": "markdown",
   "id": "02cf8f08",
   "metadata": {},
   "source": [
    "* converting datatype from **Object to categorical**"
   ]
  },
  {
   "cell_type": "code",
   "execution_count": 87,
   "id": "97d30631",
   "metadata": {
    "scrolled": false
   },
   "outputs": [
    {
     "name": "stdout",
     "output_type": "stream",
     "text": [
      "<class 'pandas.core.frame.DataFrame'>\n",
      "Int64Index: 196 entries, 1674 to 824428\n",
      "Data columns (total 10 columns):\n",
      " #   Column              Non-Null Count  Dtype   \n",
      "---  ------              --------------  -----   \n",
      " 0   Department          196 non-null    category\n",
      " 1   Object Name         195 non-null    object  \n",
      " 2   Title               187 non-null    object  \n",
      " 3   Culture             80 non-null     object  \n",
      " 4   Artist Nationality  84 non-null     object  \n",
      " 5   Object Begin Date   196 non-null    int64   \n",
      " 6   Object End Date     196 non-null    int64   \n",
      " 7   Medium              194 non-null    object  \n",
      " 8   Credit Line         196 non-null    object  \n",
      " 9   Country             29 non-null     object  \n",
      "dtypes: category(1), int64(2), object(7)\n",
      "memory usage: 13.6+ KB\n"
     ]
    }
   ],
   "source": [
    "museum_df.info()"
   ]
  },
  {
   "cell_type": "markdown",
   "id": "4c6d121b",
   "metadata": {},
   "source": [
    "* verifying the updated changes."
   ]
  },
  {
   "cell_type": "code",
   "execution_count": 88,
   "id": "45738a73",
   "metadata": {
    "scrolled": true
   },
   "outputs": [
    {
     "data": {
      "text/plain": [
       "Object ID\n",
       "1674      American Decorative Arts\n",
       "2430      American Decorative Arts\n",
       "6406      American Decorative Arts\n",
       "7616      American Decorative Arts\n",
       "15012     American Decorative Arts\n",
       "                    ...           \n",
       "779306         Drawings and Prints\n",
       "785013         Drawings and Prints\n",
       "813925         Drawings and Prints\n",
       "820618         Drawings and Prints\n",
       "824428         Drawings and Prints\n",
       "Name: Department, Length: 196, dtype: category\n",
       "Categories (17, object): ['American Decorative Arts', 'Ancient Near Eastern Art', 'Arms and Armor', 'Arts of Africa, Oceania, and the Americas', ..., 'Others', 'Photographs', 'Robert Lehman Collection', 'The Cloisters']"
      ]
     },
     "execution_count": 88,
     "metadata": {},
     "output_type": "execute_result"
    }
   ],
   "source": [
    "museum_df['Department']"
   ]
  },
  {
   "cell_type": "markdown",
   "id": "39284bef",
   "metadata": {},
   "source": [
    "#  Step 5:Processing Object Name Feature "
   ]
  },
  {
   "cell_type": "code",
   "execution_count": 89,
   "id": "2b910d10",
   "metadata": {},
   "outputs": [],
   "source": [
    "museum_df['Object Name'] = museum_df['Object Name'].str.split(',').str[0].str.replace(';',' ').str.strip()"
   ]
  },
  {
   "cell_type": "markdown",
   "id": "9bb15902",
   "metadata": {},
   "source": [
    "* replaceing ';' with whitespace, spliting string before ',' and removing whitespace from end or begning "
   ]
  },
  {
   "cell_type": "code",
   "execution_count": 90,
   "id": "ab055354",
   "metadata": {},
   "outputs": [
    {
     "data": {
      "text/html": [
       "<div>\n",
       "<style scoped>\n",
       "    .dataframe tbody tr th:only-of-type {\n",
       "        vertical-align: middle;\n",
       "    }\n",
       "\n",
       "    .dataframe tbody tr th {\n",
       "        vertical-align: top;\n",
       "    }\n",
       "\n",
       "    .dataframe thead th {\n",
       "        text-align: right;\n",
       "    }\n",
       "</style>\n",
       "<table border=\"1\" class=\"dataframe\">\n",
       "  <thead>\n",
       "    <tr style=\"text-align: right;\">\n",
       "      <th></th>\n",
       "      <th>Department</th>\n",
       "      <th>Object Name</th>\n",
       "      <th>Title</th>\n",
       "      <th>Culture</th>\n",
       "      <th>Artist Nationality</th>\n",
       "      <th>Object Begin Date</th>\n",
       "      <th>Object End Date</th>\n",
       "      <th>Medium</th>\n",
       "      <th>Credit Line</th>\n",
       "      <th>Country</th>\n",
       "    </tr>\n",
       "    <tr>\n",
       "      <th>Object ID</th>\n",
       "      <th></th>\n",
       "      <th></th>\n",
       "      <th></th>\n",
       "      <th></th>\n",
       "      <th></th>\n",
       "      <th></th>\n",
       "      <th></th>\n",
       "      <th></th>\n",
       "      <th></th>\n",
       "      <th></th>\n",
       "    </tr>\n",
       "  </thead>\n",
       "  <tbody>\n",
       "    <tr>\n",
       "      <th>1674</th>\n",
       "      <td>American Decorative Arts</td>\n",
       "      <td>Side Chair</td>\n",
       "      <td>Side Chair</td>\n",
       "      <td>American</td>\n",
       "      <td>NaN</td>\n",
       "      <td>1794</td>\n",
       "      <td>1799</td>\n",
       "      <td>Mahogany, ebony, ash, birch, white pine</td>\n",
       "      <td>Friends of the American Wing Fund, 1962</td>\n",
       "      <td>United States</td>\n",
       "    </tr>\n",
       "    <tr>\n",
       "      <th>2430</th>\n",
       "      <td>American Decorative Arts</td>\n",
       "      <td>Pitcher</td>\n",
       "      <td>Covered Pitcher</td>\n",
       "      <td>American</td>\n",
       "      <td>NaN</td>\n",
       "      <td>1700</td>\n",
       "      <td>1900</td>\n",
       "      <td>Earthenware</td>\n",
       "      <td>Rogers Fund, 1913</td>\n",
       "      <td>United States</td>\n",
       "    </tr>\n",
       "    <tr>\n",
       "      <th>6406</th>\n",
       "      <td>American Decorative Arts</td>\n",
       "      <td>Plate</td>\n",
       "      <td>Plate</td>\n",
       "      <td>Dutch</td>\n",
       "      <td>NaN</td>\n",
       "      <td>1740</td>\n",
       "      <td>1760</td>\n",
       "      <td>Earthenware</td>\n",
       "      <td>Rogers Fund, 1933</td>\n",
       "      <td>Netherlands</td>\n",
       "    </tr>\n",
       "    <tr>\n",
       "      <th>7616</th>\n",
       "      <td>American Decorative Arts</td>\n",
       "      <td>Soup bowl</td>\n",
       "      <td>Soup Bowl</td>\n",
       "      <td>American</td>\n",
       "      <td>NaN</td>\n",
       "      <td>1885</td>\n",
       "      <td>1885</td>\n",
       "      <td>Porcelain</td>\n",
       "      <td>Gift of Mr. and Mrs. Franklin Chace, 1969</td>\n",
       "      <td>United States</td>\n",
       "    </tr>\n",
       "    <tr>\n",
       "      <th>15012</th>\n",
       "      <td>American Decorative Arts</td>\n",
       "      <td>Painting</td>\n",
       "      <td>Portrait of a Lady</td>\n",
       "      <td>American</td>\n",
       "      <td>NaN</td>\n",
       "      <td>1840</td>\n",
       "      <td>1840</td>\n",
       "      <td>Watercolor on ivory</td>\n",
       "      <td>Fletcher Fund, 2006</td>\n",
       "      <td>NaN</td>\n",
       "    </tr>\n",
       "    <tr>\n",
       "      <th>...</th>\n",
       "      <td>...</td>\n",
       "      <td>...</td>\n",
       "      <td>...</td>\n",
       "      <td>...</td>\n",
       "      <td>...</td>\n",
       "      <td>...</td>\n",
       "      <td>...</td>\n",
       "      <td>...</td>\n",
       "      <td>...</td>\n",
       "      <td>...</td>\n",
       "    </tr>\n",
       "    <tr>\n",
       "      <th>365646</th>\n",
       "      <td>Drawings and Prints</td>\n",
       "      <td>Drawing</td>\n",
       "      <td>Saint Paul</td>\n",
       "      <td>NaN</td>\n",
       "      <td>Italian</td>\n",
       "      <td>1591</td>\n",
       "      <td>1666</td>\n",
       "      <td>Pen and brown ink, brush and brown ink, over l...</td>\n",
       "      <td>Gift of Cornelius Vanderbilt, 1880</td>\n",
       "      <td>NaN</td>\n",
       "    </tr>\n",
       "    <tr>\n",
       "      <th>367617</th>\n",
       "      <td>Drawings and Prints</td>\n",
       "      <td>Drawing Ornament &amp; Architecture</td>\n",
       "      <td>Francis W. Little House: Furniture Plan</td>\n",
       "      <td>NaN</td>\n",
       "      <td>American</td>\n",
       "      <td>1908</td>\n",
       "      <td>1914</td>\n",
       "      <td>Graphite and orange and brown pencil</td>\n",
       "      <td>Purchase, Emily Crane Chadborne Bequest, 1972</td>\n",
       "      <td>NaN</td>\n",
       "    </tr>\n",
       "    <tr>\n",
       "      <th>371229</th>\n",
       "      <td>Drawings and Prints</td>\n",
       "      <td>Print</td>\n",
       "      <td>Theodoric IV from the series Counts and Counte...</td>\n",
       "      <td>NaN</td>\n",
       "      <td>Dutch|Dutch|Dutch</td>\n",
       "      <td>1650</td>\n",
       "      <td>1650</td>\n",
       "      <td>Engraving and etching; second state of three</td>\n",
       "      <td>Gift of Mrs. Hugo Elliot, 1941</td>\n",
       "      <td>NaN</td>\n",
       "    </tr>\n",
       "    <tr>\n",
       "      <th>377953</th>\n",
       "      <td>Drawings and Prints</td>\n",
       "      <td>Book</td>\n",
       "      <td>L'Art de bâtir des maisons de Campagne</td>\n",
       "      <td>NaN</td>\n",
       "      <td>French|French|French|French|French</td>\n",
       "      <td>1743</td>\n",
       "      <td>1743</td>\n",
       "      <td>Printed book with engraved illustrations</td>\n",
       "      <td>Rogers Fund, 1952</td>\n",
       "      <td>NaN</td>\n",
       "    </tr>\n",
       "    <tr>\n",
       "      <th>378914</th>\n",
       "      <td>Drawings and Prints</td>\n",
       "      <td>Drawing</td>\n",
       "      <td>Design for Pony Phaeton, no. 3162</td>\n",
       "      <td>NaN</td>\n",
       "      <td>American</td>\n",
       "      <td>1875</td>\n",
       "      <td>1875</td>\n",
       "      <td>Pen and black ink, watercolor and gouache</td>\n",
       "      <td>Gift of William Brewster, 1923</td>\n",
       "      <td>NaN</td>\n",
       "    </tr>\n",
       "  </tbody>\n",
       "</table>\n",
       "<p>100 rows × 10 columns</p>\n",
       "</div>"
      ],
      "text/plain": [
       "                         Department                      Object Name  \\\n",
       "Object ID                                                              \n",
       "1674       American Decorative Arts                       Side Chair   \n",
       "2430       American Decorative Arts                          Pitcher   \n",
       "6406       American Decorative Arts                            Plate   \n",
       "7616       American Decorative Arts                        Soup bowl   \n",
       "15012      American Decorative Arts                         Painting   \n",
       "...                             ...                              ...   \n",
       "365646          Drawings and Prints                          Drawing   \n",
       "367617          Drawings and Prints  Drawing Ornament & Architecture   \n",
       "371229          Drawings and Prints                            Print   \n",
       "377953          Drawings and Prints                             Book   \n",
       "378914          Drawings and Prints                          Drawing   \n",
       "\n",
       "                                                       Title   Culture  \\\n",
       "Object ID                                                                \n",
       "1674                                              Side Chair  American   \n",
       "2430                                         Covered Pitcher  American   \n",
       "6406                                                   Plate     Dutch   \n",
       "7616                                               Soup Bowl  American   \n",
       "15012                                     Portrait of a Lady  American   \n",
       "...                                                      ...       ...   \n",
       "365646                                            Saint Paul       NaN   \n",
       "367617               Francis W. Little House: Furniture Plan       NaN   \n",
       "371229     Theodoric IV from the series Counts and Counte...       NaN   \n",
       "377953                L'Art de bâtir des maisons de Campagne       NaN   \n",
       "378914                     Design for Pony Phaeton, no. 3162       NaN   \n",
       "\n",
       "                           Artist Nationality  Object Begin Date  \\\n",
       "Object ID                                                          \n",
       "1674                                      NaN               1794   \n",
       "2430                                      NaN               1700   \n",
       "6406                                      NaN               1740   \n",
       "7616                                      NaN               1885   \n",
       "15012                                     NaN               1840   \n",
       "...                                       ...                ...   \n",
       "365646                                Italian               1591   \n",
       "367617                               American               1908   \n",
       "371229                      Dutch|Dutch|Dutch               1650   \n",
       "377953     French|French|French|French|French               1743   \n",
       "378914                               American               1875   \n",
       "\n",
       "           Object End Date                                             Medium  \\\n",
       "Object ID                                                                       \n",
       "1674                  1799            Mahogany, ebony, ash, birch, white pine   \n",
       "2430                  1900                                        Earthenware   \n",
       "6406                  1760                                        Earthenware   \n",
       "7616                  1885                                          Porcelain   \n",
       "15012                 1840                                Watercolor on ivory   \n",
       "...                    ...                                                ...   \n",
       "365646                1666  Pen and brown ink, brush and brown ink, over l...   \n",
       "367617                1914               Graphite and orange and brown pencil   \n",
       "371229                1650       Engraving and etching; second state of three   \n",
       "377953                1743           Printed book with engraved illustrations   \n",
       "378914                1875          Pen and black ink, watercolor and gouache   \n",
       "\n",
       "                                             Credit Line        Country  \n",
       "Object ID                                                                \n",
       "1674             Friends of the American Wing Fund, 1962  United States  \n",
       "2430                                   Rogers Fund, 1913  United States  \n",
       "6406                                   Rogers Fund, 1933    Netherlands  \n",
       "7616           Gift of Mr. and Mrs. Franklin Chace, 1969  United States  \n",
       "15012                                Fletcher Fund, 2006            NaN  \n",
       "...                                                  ...            ...  \n",
       "365646                Gift of Cornelius Vanderbilt, 1880            NaN  \n",
       "367617     Purchase, Emily Crane Chadborne Bequest, 1972            NaN  \n",
       "371229                    Gift of Mrs. Hugo Elliot, 1941            NaN  \n",
       "377953                                 Rogers Fund, 1952            NaN  \n",
       "378914                    Gift of William Brewster, 1923            NaN  \n",
       "\n",
       "[100 rows x 10 columns]"
      ]
     },
     "execution_count": 90,
     "metadata": {},
     "output_type": "execute_result"
    }
   ],
   "source": [
    "museum_df.head(100)"
   ]
  },
  {
   "cell_type": "code",
   "execution_count": 91,
   "id": "bdb0473e",
   "metadata": {
    "scrolled": true
   },
   "outputs": [
    {
     "data": {
      "text/html": [
       "<div>\n",
       "<style scoped>\n",
       "    .dataframe tbody tr th:only-of-type {\n",
       "        vertical-align: middle;\n",
       "    }\n",
       "\n",
       "    .dataframe tbody tr th {\n",
       "        vertical-align: top;\n",
       "    }\n",
       "\n",
       "    .dataframe thead th {\n",
       "        text-align: right;\n",
       "    }\n",
       "</style>\n",
       "<table border=\"1\" class=\"dataframe\">\n",
       "  <thead>\n",
       "    <tr style=\"text-align: right;\">\n",
       "      <th></th>\n",
       "      <th>Department</th>\n",
       "      <th>Object Name</th>\n",
       "      <th>Title</th>\n",
       "      <th>Culture</th>\n",
       "      <th>Artist Nationality</th>\n",
       "      <th>Object Begin Date</th>\n",
       "      <th>Object End Date</th>\n",
       "      <th>Medium</th>\n",
       "      <th>Credit Line</th>\n",
       "      <th>Country</th>\n",
       "    </tr>\n",
       "    <tr>\n",
       "      <th>Object ID</th>\n",
       "      <th></th>\n",
       "      <th></th>\n",
       "      <th></th>\n",
       "      <th></th>\n",
       "      <th></th>\n",
       "      <th></th>\n",
       "      <th></th>\n",
       "      <th></th>\n",
       "      <th></th>\n",
       "      <th></th>\n",
       "    </tr>\n",
       "  </thead>\n",
       "  <tbody>\n",
       "    <tr>\n",
       "      <th>656878</th>\n",
       "      <td>Modern and Contemporary Art</td>\n",
       "      <td>NaN</td>\n",
       "      <td>New York City 2[unfinished, formerly New York ...</td>\n",
       "      <td>NaN</td>\n",
       "      <td>NaN</td>\n",
       "      <td>1941</td>\n",
       "      <td>1941</td>\n",
       "      <td>Oil and tape on canvas</td>\n",
       "      <td>San Francisco Museum of Modern Art, Purchase t...</td>\n",
       "      <td>USA</td>\n",
       "    </tr>\n",
       "  </tbody>\n",
       "</table>\n",
       "</div>"
      ],
      "text/plain": [
       "                            Department Object Name  \\\n",
       "Object ID                                            \n",
       "656878     Modern and Contemporary Art         NaN   \n",
       "\n",
       "                                                       Title Culture  \\\n",
       "Object ID                                                              \n",
       "656878     New York City 2[unfinished, formerly New York ...     NaN   \n",
       "\n",
       "          Artist Nationality  Object Begin Date  Object End Date  \\\n",
       "Object ID                                                          \n",
       "656878                   NaN               1941             1941   \n",
       "\n",
       "                           Medium  \\\n",
       "Object ID                           \n",
       "656878     Oil and tape on canvas   \n",
       "\n",
       "                                                 Credit Line Country  \n",
       "Object ID                                                             \n",
       "656878     San Francisco Museum of Modern Art, Purchase t...     USA  "
      ]
     },
     "execution_count": 91,
     "metadata": {},
     "output_type": "execute_result"
    }
   ],
   "source": [
    "museum_df[museum_df['Object Name'].isna()]"
   ]
  },
  {
   "cell_type": "code",
   "execution_count": 92,
   "id": "7f8a3ef6",
   "metadata": {},
   "outputs": [],
   "source": [
    "museum_df['Object Name'].fillna(\"Not Available\",inplace = True)"
   ]
  },
  {
   "cell_type": "markdown",
   "id": "707885a1",
   "metadata": {},
   "source": [
    "* Filling NaN value with **\"Not Available value\"** to handle missing data"
   ]
  },
  {
   "cell_type": "code",
   "execution_count": 93,
   "id": "98199c43",
   "metadata": {
    "scrolled": true
   },
   "outputs": [
    {
     "name": "stdout",
     "output_type": "stream",
     "text": [
      "<class 'pandas.core.frame.DataFrame'>\n",
      "Int64Index: 196 entries, 1674 to 824428\n",
      "Data columns (total 10 columns):\n",
      " #   Column              Non-Null Count  Dtype   \n",
      "---  ------              --------------  -----   \n",
      " 0   Department          196 non-null    category\n",
      " 1   Object Name         196 non-null    object  \n",
      " 2   Title               187 non-null    object  \n",
      " 3   Culture             80 non-null     object  \n",
      " 4   Artist Nationality  84 non-null     object  \n",
      " 5   Object Begin Date   196 non-null    int64   \n",
      " 6   Object End Date     196 non-null    int64   \n",
      " 7   Medium              194 non-null    object  \n",
      " 8   Credit Line         196 non-null    object  \n",
      " 9   Country             29 non-null     object  \n",
      "dtypes: category(1), int64(2), object(7)\n",
      "memory usage: 13.6+ KB\n"
     ]
    }
   ],
   "source": [
    "museum_df.info()"
   ]
  },
  {
   "cell_type": "markdown",
   "id": "5f2b637e",
   "metadata": {},
   "source": [
    "* verifying the chnages: Non-null count  and data type."
   ]
  },
  {
   "cell_type": "markdown",
   "id": "1d21add2",
   "metadata": {},
   "source": [
    "# Step 6: Processing Title Feature"
   ]
  },
  {
   "cell_type": "markdown",
   "id": "c268f298",
   "metadata": {},
   "source": [
    "* In the below code, I have checkig for null/NaN values in Title column."
   ]
  },
  {
   "cell_type": "code",
   "execution_count": 94,
   "id": "5b5b28a1",
   "metadata": {
    "scrolled": true
   },
   "outputs": [
    {
     "data": {
      "text/html": [
       "<div>\n",
       "<style scoped>\n",
       "    .dataframe tbody tr th:only-of-type {\n",
       "        vertical-align: middle;\n",
       "    }\n",
       "\n",
       "    .dataframe tbody tr th {\n",
       "        vertical-align: top;\n",
       "    }\n",
       "\n",
       "    .dataframe thead th {\n",
       "        text-align: right;\n",
       "    }\n",
       "</style>\n",
       "<table border=\"1\" class=\"dataframe\">\n",
       "  <thead>\n",
       "    <tr style=\"text-align: right;\">\n",
       "      <th></th>\n",
       "      <th>Department</th>\n",
       "      <th>Object Name</th>\n",
       "      <th>Title</th>\n",
       "      <th>Culture</th>\n",
       "      <th>Artist Nationality</th>\n",
       "      <th>Object Begin Date</th>\n",
       "      <th>Object End Date</th>\n",
       "      <th>Medium</th>\n",
       "      <th>Credit Line</th>\n",
       "      <th>Country</th>\n",
       "    </tr>\n",
       "    <tr>\n",
       "      <th>Object ID</th>\n",
       "      <th></th>\n",
       "      <th></th>\n",
       "      <th></th>\n",
       "      <th></th>\n",
       "      <th></th>\n",
       "      <th></th>\n",
       "      <th></th>\n",
       "      <th></th>\n",
       "      <th></th>\n",
       "      <th></th>\n",
       "    </tr>\n",
       "  </thead>\n",
       "  <tbody>\n",
       "    <tr>\n",
       "      <th>39917</th>\n",
       "      <td>Asian Art</td>\n",
       "      <td>Hanging scroll mounted as handscroll</td>\n",
       "      <td>NaN</td>\n",
       "      <td>China</td>\n",
       "      <td>Chinese</td>\n",
       "      <td>1037</td>\n",
       "      <td>1101</td>\n",
       "      <td>Hanging scroll mounted as a handscroll; ink on...</td>\n",
       "      <td>Bequest of John M. Crawford Jr., 1988</td>\n",
       "      <td>NaN</td>\n",
       "    </tr>\n",
       "    <tr>\n",
       "      <th>53280</th>\n",
       "      <td>Asian Art</td>\n",
       "      <td>Bracelet</td>\n",
       "      <td>NaN</td>\n",
       "      <td>Thailand</td>\n",
       "      <td>NaN</td>\n",
       "      <td>-300</td>\n",
       "      <td>400</td>\n",
       "      <td>Bronze</td>\n",
       "      <td>Samuel Eilenberg Collection, Bequest of Samuel...</td>\n",
       "      <td>NaN</td>\n",
       "    </tr>\n",
       "    <tr>\n",
       "      <th>54547</th>\n",
       "      <td>Asian Art</td>\n",
       "      <td>Print</td>\n",
       "      <td>NaN</td>\n",
       "      <td>Japan</td>\n",
       "      <td>Japanese</td>\n",
       "      <td>1800</td>\n",
       "      <td>1899</td>\n",
       "      <td>Polychrome woodblock print (surimono); ink and...</td>\n",
       "      <td>H. O. Havemeyer Collection, Bequest of Mrs. H....</td>\n",
       "      <td>NaN</td>\n",
       "    </tr>\n",
       "    <tr>\n",
       "      <th>54626</th>\n",
       "      <td>Asian Art</td>\n",
       "      <td>Album leaf</td>\n",
       "      <td>NaN</td>\n",
       "      <td>Japan</td>\n",
       "      <td>Japanese</td>\n",
       "      <td>1877</td>\n",
       "      <td>1897</td>\n",
       "      <td>Album leaf; ink and color on silk</td>\n",
       "      <td>Charles Stewart Smith Collection, Gift of Mrs....</td>\n",
       "      <td>NaN</td>\n",
       "    </tr>\n",
       "    <tr>\n",
       "      <th>55442</th>\n",
       "      <td>Asian Art</td>\n",
       "      <td>Print</td>\n",
       "      <td>NaN</td>\n",
       "      <td>Japan</td>\n",
       "      <td>Japanese</td>\n",
       "      <td>1838</td>\n",
       "      <td>1838</td>\n",
       "      <td>Polychrome woodblock print; ink and color on p...</td>\n",
       "      <td>Rogers Fund, 1922</td>\n",
       "      <td>NaN</td>\n",
       "    </tr>\n",
       "    <tr>\n",
       "      <th>58899</th>\n",
       "      <td>Asian Art</td>\n",
       "      <td>Inrō</td>\n",
       "      <td>NaN</td>\n",
       "      <td>Japan</td>\n",
       "      <td>NaN</td>\n",
       "      <td>1800</td>\n",
       "      <td>1899</td>\n",
       "      <td>Lacquer, hirame ground, gold, red, silver and ...</td>\n",
       "      <td>The Howard Mansfield Collection, Purchase, Rog...</td>\n",
       "      <td>NaN</td>\n",
       "    </tr>\n",
       "    <tr>\n",
       "      <th>62174</th>\n",
       "      <td>Asian Art</td>\n",
       "      <td>Basket</td>\n",
       "      <td>NaN</td>\n",
       "      <td>Japan</td>\n",
       "      <td>NaN</td>\n",
       "      <td>1800</td>\n",
       "      <td>1899</td>\n",
       "      <td>Bamboo</td>\n",
       "      <td>Edward C. Moore Collection, Bequest of Edward ...</td>\n",
       "      <td>NaN</td>\n",
       "    </tr>\n",
       "    <tr>\n",
       "      <th>67976</th>\n",
       "      <td>Asian Art</td>\n",
       "      <td>Piece</td>\n",
       "      <td>NaN</td>\n",
       "      <td>Japan</td>\n",
       "      <td>NaN</td>\n",
       "      <td>1800</td>\n",
       "      <td>1899</td>\n",
       "      <td>Silk / Brocaded</td>\n",
       "      <td>Rogers Fund, 1909</td>\n",
       "      <td>NaN</td>\n",
       "    </tr>\n",
       "    <tr>\n",
       "      <th>77166</th>\n",
       "      <td>Asian Art</td>\n",
       "      <td>Drawing</td>\n",
       "      <td>NaN</td>\n",
       "      <td>India (Guler, Punjab Hills)</td>\n",
       "      <td>NaN</td>\n",
       "      <td>1790</td>\n",
       "      <td>1810</td>\n",
       "      <td>Ink on paper</td>\n",
       "      <td>Gift of Cynthia Hazen Polsky, 2011</td>\n",
       "      <td>NaN</td>\n",
       "    </tr>\n",
       "  </tbody>\n",
       "</table>\n",
       "</div>"
      ],
      "text/plain": [
       "          Department                           Object Name Title  \\\n",
       "Object ID                                                          \n",
       "39917      Asian Art  Hanging scroll mounted as handscroll   NaN   \n",
       "53280      Asian Art                              Bracelet   NaN   \n",
       "54547      Asian Art                                 Print   NaN   \n",
       "54626      Asian Art                            Album leaf   NaN   \n",
       "55442      Asian Art                                 Print   NaN   \n",
       "58899      Asian Art                                  Inrō   NaN   \n",
       "62174      Asian Art                                Basket   NaN   \n",
       "67976      Asian Art                                 Piece   NaN   \n",
       "77166      Asian Art                               Drawing   NaN   \n",
       "\n",
       "                               Culture Artist Nationality  Object Begin Date  \\\n",
       "Object ID                                                                      \n",
       "39917                            China            Chinese               1037   \n",
       "53280                         Thailand                NaN               -300   \n",
       "54547                            Japan           Japanese               1800   \n",
       "54626                            Japan           Japanese               1877   \n",
       "55442                            Japan           Japanese               1838   \n",
       "58899                            Japan                NaN               1800   \n",
       "62174                            Japan                NaN               1800   \n",
       "67976                            Japan                NaN               1800   \n",
       "77166      India (Guler, Punjab Hills)                NaN               1790   \n",
       "\n",
       "           Object End Date                                             Medium  \\\n",
       "Object ID                                                                       \n",
       "39917                 1101  Hanging scroll mounted as a handscroll; ink on...   \n",
       "53280                  400                                             Bronze   \n",
       "54547                 1899  Polychrome woodblock print (surimono); ink and...   \n",
       "54626                 1897                  Album leaf; ink and color on silk   \n",
       "55442                 1838  Polychrome woodblock print; ink and color on p...   \n",
       "58899                 1899  Lacquer, hirame ground, gold, red, silver and ...   \n",
       "62174                 1899                                             Bamboo   \n",
       "67976                 1899                                    Silk / Brocaded   \n",
       "77166                 1810                                       Ink on paper   \n",
       "\n",
       "                                                 Credit Line Country  \n",
       "Object ID                                                             \n",
       "39917                  Bequest of John M. Crawford Jr., 1988     NaN  \n",
       "53280      Samuel Eilenberg Collection, Bequest of Samuel...     NaN  \n",
       "54547      H. O. Havemeyer Collection, Bequest of Mrs. H....     NaN  \n",
       "54626      Charles Stewart Smith Collection, Gift of Mrs....     NaN  \n",
       "55442                                      Rogers Fund, 1922     NaN  \n",
       "58899      The Howard Mansfield Collection, Purchase, Rog...     NaN  \n",
       "62174      Edward C. Moore Collection, Bequest of Edward ...     NaN  \n",
       "67976                                      Rogers Fund, 1909     NaN  \n",
       "77166                     Gift of Cynthia Hazen Polsky, 2011     NaN  "
      ]
     },
     "execution_count": 94,
     "metadata": {},
     "output_type": "execute_result"
    }
   ],
   "source": [
    "museum_df[museum_df['Title'].isna()]"
   ]
  },
  {
   "cell_type": "markdown",
   "id": "6a365384",
   "metadata": {},
   "source": [
    "* **Subset of Nan valued dataset for column Object Name.**"
   ]
  },
  {
   "cell_type": "code",
   "execution_count": 95,
   "id": "1fa7bc84",
   "metadata": {},
   "outputs": [],
   "source": [
    "#Adding object name as title \n",
    "\n",
    "museum_df['Title']= np.where(museum_df['Title'].isnull(), museum_df['Object Name'], museum_df['Title'])"
   ]
  },
  {
   "cell_type": "markdown",
   "id": "b93e414e",
   "metadata": {},
   "source": [
    "* The null values are replpaceed with the Title value of the resective column as by observing the dataset, It can be said the Object name and Title are similar. "
   ]
  },
  {
   "cell_type": "code",
   "execution_count": 96,
   "id": "6c50afcd",
   "metadata": {},
   "outputs": [
    {
     "name": "stdout",
     "output_type": "stream",
     "text": [
      "<class 'pandas.core.frame.DataFrame'>\n",
      "Int64Index: 196 entries, 1674 to 824428\n",
      "Data columns (total 10 columns):\n",
      " #   Column              Non-Null Count  Dtype   \n",
      "---  ------              --------------  -----   \n",
      " 0   Department          196 non-null    category\n",
      " 1   Object Name         196 non-null    object  \n",
      " 2   Title               196 non-null    object  \n",
      " 3   Culture             80 non-null     object  \n",
      " 4   Artist Nationality  84 non-null     object  \n",
      " 5   Object Begin Date   196 non-null    int64   \n",
      " 6   Object End Date     196 non-null    int64   \n",
      " 7   Medium              194 non-null    object  \n",
      " 8   Credit Line         196 non-null    object  \n",
      " 9   Country             29 non-null     object  \n",
      "dtypes: category(1), int64(2), object(7)\n",
      "memory usage: 13.6+ KB\n"
     ]
    }
   ],
   "source": [
    "#no null data left \n",
    "\n",
    "museum_df.info()"
   ]
  },
  {
   "cell_type": "code",
   "execution_count": 97,
   "id": "201406ed",
   "metadata": {
    "scrolled": true
   },
   "outputs": [
    {
     "data": {
      "text/html": [
       "<div>\n",
       "<style scoped>\n",
       "    .dataframe tbody tr th:only-of-type {\n",
       "        vertical-align: middle;\n",
       "    }\n",
       "\n",
       "    .dataframe tbody tr th {\n",
       "        vertical-align: top;\n",
       "    }\n",
       "\n",
       "    .dataframe thead th {\n",
       "        text-align: right;\n",
       "    }\n",
       "</style>\n",
       "<table border=\"1\" class=\"dataframe\">\n",
       "  <thead>\n",
       "    <tr style=\"text-align: right;\">\n",
       "      <th></th>\n",
       "      <th>Department</th>\n",
       "      <th>Object Name</th>\n",
       "      <th>Title</th>\n",
       "      <th>Culture</th>\n",
       "      <th>Artist Nationality</th>\n",
       "      <th>Object Begin Date</th>\n",
       "      <th>Object End Date</th>\n",
       "      <th>Medium</th>\n",
       "      <th>Credit Line</th>\n",
       "      <th>Country</th>\n",
       "    </tr>\n",
       "    <tr>\n",
       "      <th>Object ID</th>\n",
       "      <th></th>\n",
       "      <th></th>\n",
       "      <th></th>\n",
       "      <th></th>\n",
       "      <th></th>\n",
       "      <th></th>\n",
       "      <th></th>\n",
       "      <th></th>\n",
       "      <th></th>\n",
       "      <th></th>\n",
       "    </tr>\n",
       "  </thead>\n",
       "  <tbody>\n",
       "    <tr>\n",
       "      <th>262991</th>\n",
       "      <td>Photographs</td>\n",
       "      <td>Photograph</td>\n",
       "      <td>[Detail of Vanitas Figures Carved on the Choir...</td>\n",
       "      <td>NaN</td>\n",
       "      <td>NaN</td>\n",
       "      <td>1860</td>\n",
       "      <td>1869</td>\n",
       "      <td>Albumen silver print from glass negative</td>\n",
       "      <td>Gift of Lucien Goldschmidt, 1981</td>\n",
       "      <td>NaN</td>\n",
       "    </tr>\n",
       "    <tr>\n",
       "      <th>265758</th>\n",
       "      <td>Photographs</td>\n",
       "      <td>Photograph</td>\n",
       "      <td>[Graffiti on Backstage Door of the School of A...</td>\n",
       "      <td>NaN</td>\n",
       "      <td>American</td>\n",
       "      <td>1945</td>\n",
       "      <td>1945</td>\n",
       "      <td>Gelatin silver print</td>\n",
       "      <td>Gift of Paul F. Walter, in memory of Christoph...</td>\n",
       "      <td>NaN</td>\n",
       "    </tr>\n",
       "    <tr>\n",
       "      <th>266167</th>\n",
       "      <td>Photographs</td>\n",
       "      <td>Photograph</td>\n",
       "      <td>[Study of Australian Grapes]</td>\n",
       "      <td>NaN</td>\n",
       "      <td>NaN</td>\n",
       "      <td>1858</td>\n",
       "      <td>1862</td>\n",
       "      <td>Albumen silver print from glass negative</td>\n",
       "      <td>Purchase, The Horace W. Goldsmith Foundation G...</td>\n",
       "      <td>NaN</td>\n",
       "    </tr>\n",
       "    <tr>\n",
       "      <th>273592</th>\n",
       "      <td>Photographs</td>\n",
       "      <td>Negative</td>\n",
       "      <td>[Peggy Bacon]</td>\n",
       "      <td>NaN</td>\n",
       "      <td>American</td>\n",
       "      <td>1934</td>\n",
       "      <td>1934</td>\n",
       "      <td>Film negative</td>\n",
       "      <td>Walker Evans Archive, 1994</td>\n",
       "      <td>NaN</td>\n",
       "    </tr>\n",
       "    <tr>\n",
       "      <th>276937</th>\n",
       "      <td>Photographs</td>\n",
       "      <td>Negative</td>\n",
       "      <td>[Two 35mm Film Frames: Boys Playing on Stoop N...</td>\n",
       "      <td>NaN</td>\n",
       "      <td>American</td>\n",
       "      <td>1933</td>\n",
       "      <td>1934</td>\n",
       "      <td>Film negative</td>\n",
       "      <td>Walker Evans Archive, 1994</td>\n",
       "      <td>NaN</td>\n",
       "    </tr>\n",
       "    <tr>\n",
       "      <th>670640</th>\n",
       "      <td>Photographs</td>\n",
       "      <td>Photograph  Photomicrograph</td>\n",
       "      <td>[Snow Crystal]</td>\n",
       "      <td>NaN</td>\n",
       "      <td>American</td>\n",
       "      <td>1890</td>\n",
       "      <td>1929</td>\n",
       "      <td>Gelatin silver print</td>\n",
       "      <td>Purchase, Alfred Stieglitz Society Gifts, 2015</td>\n",
       "      <td>NaN</td>\n",
       "    </tr>\n",
       "    <tr>\n",
       "      <th>679516</th>\n",
       "      <td>Photographs</td>\n",
       "      <td>Album</td>\n",
       "      <td>[Album]</td>\n",
       "      <td>NaN</td>\n",
       "      <td>NaN</td>\n",
       "      <td>1860</td>\n",
       "      <td>1879</td>\n",
       "      <td>NaN</td>\n",
       "      <td>Gift of Eva Kasiska, 1947</td>\n",
       "      <td>NaN</td>\n",
       "    </tr>\n",
       "    <tr>\n",
       "      <th>732391</th>\n",
       "      <td>Photographs</td>\n",
       "      <td>Ephemera</td>\n",
       "      <td>[Rusted Metal Sign: \"Slow, Children\"]</td>\n",
       "      <td>NaN</td>\n",
       "      <td>NaN</td>\n",
       "      <td>1960</td>\n",
       "      <td>1975</td>\n",
       "      <td>Painted metal</td>\n",
       "      <td>Walker Evans Archive, 1994</td>\n",
       "      <td>NaN</td>\n",
       "    </tr>\n",
       "  </tbody>\n",
       "</table>\n",
       "</div>"
      ],
      "text/plain": [
       "            Department                  Object Name  \\\n",
       "Object ID                                             \n",
       "262991     Photographs                   Photograph   \n",
       "265758     Photographs                   Photograph   \n",
       "266167     Photographs                   Photograph   \n",
       "273592     Photographs                     Negative   \n",
       "276937     Photographs                     Negative   \n",
       "670640     Photographs  Photograph  Photomicrograph   \n",
       "679516     Photographs                        Album   \n",
       "732391     Photographs                     Ephemera   \n",
       "\n",
       "                                                       Title Culture  \\\n",
       "Object ID                                                              \n",
       "262991     [Detail of Vanitas Figures Carved on the Choir...     NaN   \n",
       "265758     [Graffiti on Backstage Door of the School of A...     NaN   \n",
       "266167                          [Study of Australian Grapes]     NaN   \n",
       "273592                                         [Peggy Bacon]     NaN   \n",
       "276937     [Two 35mm Film Frames: Boys Playing on Stoop N...     NaN   \n",
       "670640                                        [Snow Crystal]     NaN   \n",
       "679516                                               [Album]     NaN   \n",
       "732391                 [Rusted Metal Sign: \"Slow, Children\"]     NaN   \n",
       "\n",
       "          Artist Nationality  Object Begin Date  Object End Date  \\\n",
       "Object ID                                                          \n",
       "262991                   NaN               1860             1869   \n",
       "265758              American               1945             1945   \n",
       "266167                   NaN               1858             1862   \n",
       "273592              American               1934             1934   \n",
       "276937              American               1933             1934   \n",
       "670640              American               1890             1929   \n",
       "679516                   NaN               1860             1879   \n",
       "732391                   NaN               1960             1975   \n",
       "\n",
       "                                             Medium  \\\n",
       "Object ID                                             \n",
       "262991     Albumen silver print from glass negative   \n",
       "265758                         Gelatin silver print   \n",
       "266167     Albumen silver print from glass negative   \n",
       "273592                                Film negative   \n",
       "276937                                Film negative   \n",
       "670640                         Gelatin silver print   \n",
       "679516                                          NaN   \n",
       "732391                                Painted metal   \n",
       "\n",
       "                                                 Credit Line Country  \n",
       "Object ID                                                             \n",
       "262991                      Gift of Lucien Goldschmidt, 1981     NaN  \n",
       "265758     Gift of Paul F. Walter, in memory of Christoph...     NaN  \n",
       "266167     Purchase, The Horace W. Goldsmith Foundation G...     NaN  \n",
       "273592                            Walker Evans Archive, 1994     NaN  \n",
       "276937                            Walker Evans Archive, 1994     NaN  \n",
       "670640        Purchase, Alfred Stieglitz Society Gifts, 2015     NaN  \n",
       "679516                             Gift of Eva Kasiska, 1947     NaN  \n",
       "732391                            Walker Evans Archive, 1994     NaN  "
      ]
     },
     "execution_count": 97,
     "metadata": {},
     "output_type": "execute_result"
    }
   ],
   "source": [
    "#checking for strings with \"[]\" in a column \n",
    "\n",
    "museum_df[museum_df['Title'].str.startswith(\"[\")]"
   ]
  },
  {
   "cell_type": "markdown",
   "id": "80212edd",
   "metadata": {},
   "source": [
    "* The column **Title** has some values enclosed in \"[]\". Hence,  the result shows the removal of brackets to standardise the data."
   ]
  },
  {
   "cell_type": "code",
   "execution_count": 98,
   "id": "a47b99a4",
   "metadata": {},
   "outputs": [],
   "source": [
    "museum_df['Title'] =  museum_df['Title'].apply(lambda x: x.replace('[','').replace(']','')) "
   ]
  },
  {
   "cell_type": "code",
   "execution_count": 99,
   "id": "41cf0844",
   "metadata": {
    "scrolled": true
   },
   "outputs": [
    {
     "data": {
      "text/html": [
       "<div>\n",
       "<style scoped>\n",
       "    .dataframe tbody tr th:only-of-type {\n",
       "        vertical-align: middle;\n",
       "    }\n",
       "\n",
       "    .dataframe tbody tr th {\n",
       "        vertical-align: top;\n",
       "    }\n",
       "\n",
       "    .dataframe thead th {\n",
       "        text-align: right;\n",
       "    }\n",
       "</style>\n",
       "<table border=\"1\" class=\"dataframe\">\n",
       "  <thead>\n",
       "    <tr style=\"text-align: right;\">\n",
       "      <th></th>\n",
       "      <th>Department</th>\n",
       "      <th>Object Name</th>\n",
       "      <th>Title</th>\n",
       "      <th>Culture</th>\n",
       "      <th>Artist Nationality</th>\n",
       "      <th>Object Begin Date</th>\n",
       "      <th>Object End Date</th>\n",
       "      <th>Medium</th>\n",
       "      <th>Credit Line</th>\n",
       "      <th>Country</th>\n",
       "    </tr>\n",
       "    <tr>\n",
       "      <th>Object ID</th>\n",
       "      <th></th>\n",
       "      <th></th>\n",
       "      <th></th>\n",
       "      <th></th>\n",
       "      <th></th>\n",
       "      <th></th>\n",
       "      <th></th>\n",
       "      <th></th>\n",
       "      <th></th>\n",
       "      <th></th>\n",
       "    </tr>\n",
       "  </thead>\n",
       "  <tbody>\n",
       "  </tbody>\n",
       "</table>\n",
       "</div>"
      ],
      "text/plain": [
       "Empty DataFrame\n",
       "Columns: [Department, Object Name, Title, Culture, Artist Nationality, Object Begin Date, Object End Date, Medium, Credit Line, Country]\n",
       "Index: []"
      ]
     },
     "execution_count": 99,
     "metadata": {},
     "output_type": "execute_result"
    }
   ],
   "source": [
    "#checking for string with \"[]\" after removing.\n",
    "\n",
    "museum_df[museum_df['Title'].str.startswith(\"[\")]"
   ]
  },
  {
   "cell_type": "markdown",
   "id": "fd682a4c",
   "metadata": {},
   "source": [
    "* Verifying the changes by checking no values have \"[]\""
   ]
  },
  {
   "cell_type": "code",
   "execution_count": 100,
   "id": "5d4c9baa",
   "metadata": {},
   "outputs": [
    {
     "data": {
      "text/plain": [
       "Object ID\n",
       "1674                                             Side Chair\n",
       "2430                                        Covered Pitcher\n",
       "6406                                                  Plate\n",
       "7616                                              Soup Bowl\n",
       "15012                                    Portrait of a Lady\n",
       "                                ...                        \n",
       "779306    Packard-Tourist, from the \"Antique Autos\" seri...\n",
       "785013    Norwegian Air Force In Canada Patrol Bomber (N...\n",
       "813925                                           Stonehenge\n",
       "820618    Psyche, holding the flask of beauty being tran...\n",
       "824428                                 Landscape and Cattle\n",
       "Name: Title, Length: 196, dtype: object"
      ]
     },
     "execution_count": 100,
     "metadata": {},
     "output_type": "execute_result"
    }
   ],
   "source": [
    "#removing whitespace from the Title column values\n",
    "\n",
    "museum_df['Title'].str.strip()"
   ]
  },
  {
   "cell_type": "markdown",
   "id": "7ddbab9d",
   "metadata": {},
   "source": [
    "# Step 7: Processing Culture Column"
   ]
  },
  {
   "cell_type": "code",
   "execution_count": 101,
   "id": "1e2cadc9",
   "metadata": {},
   "outputs": [
    {
     "data": {
      "text/plain": [
       "Object ID\n",
       "1674      American\n",
       "2430      American\n",
       "6406         Dutch\n",
       "7616      American\n",
       "15012     American\n",
       "            ...   \n",
       "779306         NaN\n",
       "785013         NaN\n",
       "813925         NaN\n",
       "820618         NaN\n",
       "824428         NaN\n",
       "Name: Culture, Length: 196, dtype: object"
      ]
     },
     "execution_count": 101,
     "metadata": {},
     "output_type": "execute_result"
    }
   ],
   "source": [
    "museum_df['Culture']"
   ]
  },
  {
   "cell_type": "code",
   "execution_count": 102,
   "id": "350e5b7e",
   "metadata": {},
   "outputs": [],
   "source": [
    "#adding \"Other\" in Culture NaN valued observatios\n",
    "\n",
    "museum_df['Culture'].fillna(\"Others\",inplace=True)"
   ]
  },
  {
   "cell_type": "markdown",
   "id": "07d66bd2",
   "metadata": {},
   "source": [
    "* Handaling missing/NaN valued data by filling \"Others\". It is not advisable to drop for avoiding over fitting of data problem."
   ]
  },
  {
   "cell_type": "code",
   "execution_count": 103,
   "id": "2ea15cb1",
   "metadata": {},
   "outputs": [],
   "source": [
    "#removing string after first occurance of ',', removing whitespace and also removing possibly and probably words to make consistent\n",
    "\n",
    "museum_df['Culture'] = museum_df['Culture'].str.split(',').str[0].str.replace('possibly','').str.replace('probably','').str.strip()"
   ]
  },
  {
   "cell_type": "code",
   "execution_count": 104,
   "id": "c6775bd5",
   "metadata": {},
   "outputs": [],
   "source": [
    "#converting to type category\n",
    "\n",
    "museum_df['Culture'] = museum_df['Culture'].astype(\"category\")"
   ]
  },
  {
   "cell_type": "code",
   "execution_count": 105,
   "id": "2b954242",
   "metadata": {},
   "outputs": [],
   "source": [
    "#replacing \"Japanese\" to \"Japan\" from list of culture\n",
    "\n",
    "museum_df['Culture'] = museum_df['Culture'].str.replace('Japanese','Japan')\n",
    "\n",
    "museum_df['Culture'] = museum_df['Culture'].str.replace('Italic','Italian')"
   ]
  },
  {
   "cell_type": "markdown",
   "id": "e9931e93",
   "metadata": {},
   "source": [
    "* Removing same names with different types to optimize the list of country and make it consistent"
   ]
  },
  {
   "cell_type": "code",
   "execution_count": 106,
   "id": "6d72b311",
   "metadata": {},
   "outputs": [
    {
     "data": {
      "text/plain": [
       "Object ID\n",
       "1674      American\n",
       "2430      American\n",
       "6406         Dutch\n",
       "7616      American\n",
       "15012     American\n",
       "            ...   \n",
       "779306      Others\n",
       "785013      Others\n",
       "813925      Others\n",
       "820618      Others\n",
       "824428      Others\n",
       "Name: Culture, Length: 196, dtype: object"
      ]
     },
     "execution_count": 106,
     "metadata": {},
     "output_type": "execute_result"
    }
   ],
   "source": [
    "#reformating \"India\" as a value\n",
    "\n",
    "museum_df['Culture'] = museum_df['Culture'].str.split(' \\(').str[0]\n",
    "museum_df['Culture']"
   ]
  },
  {
   "cell_type": "markdown",
   "id": "e0336bc2",
   "metadata": {},
   "source": [
    "# Step 8: Processing Artist  Nationality column"
   ]
  },
  {
   "cell_type": "code",
   "execution_count": 107,
   "id": "d2554354",
   "metadata": {},
   "outputs": [
    {
     "data": {
      "text/plain": [
       "Object ID\n",
       "1674      NaN\n",
       "2430      NaN\n",
       "6406      NaN\n",
       "7616      NaN\n",
       "15012     NaN\n",
       "         ... \n",
       "779306    NaN\n",
       "785013    NaN\n",
       "813925    NaN\n",
       "820618    NaN\n",
       "824428    NaN\n",
       "Name: Artist Nationality, Length: 196, dtype: object"
      ]
     },
     "execution_count": 107,
     "metadata": {},
     "output_type": "execute_result"
    }
   ],
   "source": [
    "museum_df['Artist Nationality']"
   ]
  },
  {
   "cell_type": "code",
   "execution_count": 108,
   "id": "cd9affec",
   "metadata": {},
   "outputs": [],
   "source": [
    "#filling NaN with 'unknown'\n",
    "\n",
    "museum_df['Artist Nationality'].fillna(\"Unknown\",inplace=True)"
   ]
  },
  {
   "cell_type": "markdown",
   "id": "2eb0fdd0",
   "metadata": {},
   "source": [
    "* The missing values in **Artist Nationality** has been handled by filling \"Unknown\" as a value."
   ]
  },
  {
   "cell_type": "code",
   "execution_count": 109,
   "id": "cf4b52ef",
   "metadata": {},
   "outputs": [],
   "source": [
    "#Converting to category\n",
    "\n",
    "museum_df['Artist Nationality'] = museum_df['Artist Nationality'].astype(\"category\")"
   ]
  },
  {
   "cell_type": "code",
   "execution_count": 110,
   "id": "4225787f",
   "metadata": {},
   "outputs": [
    {
     "data": {
      "text/plain": [
       "Object ID\n",
       "1674      Unknown\n",
       "2430      Unknown\n",
       "6406      Unknown\n",
       "7616      Unknown\n",
       "15012     Unknown\n",
       "           ...   \n",
       "779306    Unknown\n",
       "785013    Unknown\n",
       "813925    Unknown\n",
       "820618    Unknown\n",
       "824428    Unknown\n",
       "Name: Artist Nationality, Length: 196, dtype: category\n",
       "Categories (37, object): ['American', 'American, born Russia', 'American|American', 'American|American|American', ..., 'Mexican', 'Netherlandish|German', 'Scottish|British|British, Scottish|British|Br..., 'Unknown']"
      ]
     },
     "execution_count": 110,
     "metadata": {},
     "output_type": "execute_result"
    }
   ],
   "source": [
    "museum_df['Artist Nationality']"
   ]
  },
  {
   "cell_type": "code",
   "execution_count": 111,
   "id": "b60cb8d2",
   "metadata": {},
   "outputs": [
    {
     "data": {
      "text/plain": [
       "Object ID\n",
       "1674      Unknown\n",
       "2430      Unknown\n",
       "6406      Unknown\n",
       "7616      Unknown\n",
       "15012     Unknown\n",
       "           ...   \n",
       "779306    Unknown\n",
       "785013    Unknown\n",
       "813925    Unknown\n",
       "820618    Unknown\n",
       "824428    Unknown\n",
       "Name: Artist Nationality, Length: 196, dtype: object"
      ]
     },
     "execution_count": 111,
     "metadata": {},
     "output_type": "execute_result"
    }
   ],
   "source": [
    "#fetching string before special character '|' or ','\n",
    "\n",
    "\n",
    "museum_df['Artist Nationality'] = museum_df['Artist Nationality'].str.split('|').str[0].str.split(',').str[0]\n",
    "museum_df['Artist Nationality']"
   ]
  },
  {
   "cell_type": "markdown",
   "id": "45f20bb9",
   "metadata": {},
   "source": [
    "* Updating values such **French | French** and **America|America|America**."
   ]
  },
  {
   "cell_type": "markdown",
   "id": "b869c4c4",
   "metadata": {},
   "source": [
    "# Step 9: Processing Medium Column"
   ]
  },
  {
   "cell_type": "code",
   "execution_count": 112,
   "id": "2b3648da",
   "metadata": {},
   "outputs": [
    {
     "data": {
      "text/plain": [
       "Object ID\n",
       "1674      Mahogany, ebony, ash, birch, white pine\n",
       "2430                                  Earthenware\n",
       "6406                                  Earthenware\n",
       "7616                                    Porcelain\n",
       "15012                         Watercolor on ivory\n",
       "                           ...                   \n",
       "779306                Commercial color lithograph\n",
       "785013                Commercial color lithograph\n",
       "813925          Sugar-lift aquatint with roulette\n",
       "820618                                  Engraving\n",
       "824428                                    Etching\n",
       "Name: Medium, Length: 196, dtype: object"
      ]
     },
     "execution_count": 112,
     "metadata": {},
     "output_type": "execute_result"
    }
   ],
   "source": [
    "museum_df['Medium']"
   ]
  },
  {
   "cell_type": "code",
   "execution_count": 113,
   "id": "2d5a2f84",
   "metadata": {},
   "outputs": [
    {
     "name": "stdout",
     "output_type": "stream",
     "text": [
      "<class 'pandas.core.frame.DataFrame'>\n",
      "Int64Index: 196 entries, 1674 to 824428\n",
      "Data columns (total 10 columns):\n",
      " #   Column              Non-Null Count  Dtype   \n",
      "---  ------              --------------  -----   \n",
      " 0   Department          196 non-null    category\n",
      " 1   Object Name         196 non-null    object  \n",
      " 2   Title               196 non-null    object  \n",
      " 3   Culture             196 non-null    object  \n",
      " 4   Artist Nationality  196 non-null    object  \n",
      " 5   Object Begin Date   196 non-null    int64   \n",
      " 6   Object End Date     196 non-null    int64   \n",
      " 7   Medium              194 non-null    object  \n",
      " 8   Credit Line         196 non-null    object  \n",
      " 9   Country             29 non-null     object  \n",
      "dtypes: category(1), int64(2), object(7)\n",
      "memory usage: 13.6+ KB\n"
     ]
    }
   ],
   "source": [
    "#checking for nan values\n",
    "\n",
    "museum_df.info()"
   ]
  },
  {
   "cell_type": "code",
   "execution_count": 114,
   "id": "1e37fcd4",
   "metadata": {},
   "outputs": [
    {
     "name": "stderr",
     "output_type": "stream",
     "text": [
      "C:\\Users\\admin\\AppData\\Local\\Temp/ipykernel_19188/983856892.py:3: FutureWarning: The default value of regex will change from True to False in a future version. In addition, single character regular expressions will *not* be treated as literal strings when regex=True.\n",
      "  museum_df['Medium'] = museum_df['Medium'].str.replace('[','').str.replace(']','')\n"
     ]
    }
   ],
   "source": [
    "# removing square brackets from string\n",
    "\n",
    "museum_df['Medium'] = museum_df['Medium'].str.replace('[','').str.replace(']','')\n"
   ]
  },
  {
   "cell_type": "code",
   "execution_count": 115,
   "id": "554a02ad",
   "metadata": {},
   "outputs": [
    {
     "data": {
      "text/plain": [
       "Object ID\n",
       "1674      False\n",
       "2430      False\n",
       "6406      False\n",
       "7616      False\n",
       "15012     False\n",
       "          ...  \n",
       "779306    False\n",
       "785013    False\n",
       "813925    False\n",
       "820618    False\n",
       "824428    False\n",
       "Name: Medium, Length: 196, dtype: object"
      ]
     },
     "execution_count": 115,
     "metadata": {},
     "output_type": "execute_result"
    }
   ],
   "source": [
    "#checking for any value starting with '[' and ending with']'\n",
    "\n",
    "museum_df['Medium'].str.startswith(\"[\")"
   ]
  },
  {
   "cell_type": "code",
   "execution_count": 116,
   "id": "bbda06c5",
   "metadata": {},
   "outputs": [],
   "source": [
    "museum_df['Medium'].fillna('no medium available',inplace=True)"
   ]
  },
  {
   "cell_type": "markdown",
   "id": "4d717fc3",
   "metadata": {},
   "source": [
    "* filling null values with No Medium Available. "
   ]
  },
  {
   "cell_type": "code",
   "execution_count": 117,
   "id": "65e7165b",
   "metadata": {},
   "outputs": [
    {
     "name": "stdout",
     "output_type": "stream",
     "text": [
      "<class 'pandas.core.frame.DataFrame'>\n",
      "Int64Index: 196 entries, 1674 to 824428\n",
      "Data columns (total 10 columns):\n",
      " #   Column              Non-Null Count  Dtype   \n",
      "---  ------              --------------  -----   \n",
      " 0   Department          196 non-null    category\n",
      " 1   Object Name         196 non-null    object  \n",
      " 2   Title               196 non-null    object  \n",
      " 3   Culture             196 non-null    object  \n",
      " 4   Artist Nationality  196 non-null    object  \n",
      " 5   Object Begin Date   196 non-null    int64   \n",
      " 6   Object End Date     196 non-null    int64   \n",
      " 7   Medium              196 non-null    object  \n",
      " 8   Credit Line         196 non-null    object  \n",
      " 9   Country             29 non-null     object  \n",
      "dtypes: category(1), int64(2), object(7)\n",
      "memory usage: 13.6+ KB\n"
     ]
    }
   ],
   "source": [
    "museum_df.info()"
   ]
  },
  {
   "cell_type": "code",
   "execution_count": 118,
   "id": "232c8f88",
   "metadata": {},
   "outputs": [
    {
     "data": {
      "text/plain": [
       "Object ID\n",
       "1674      Mahogany, ebony, ash, birch, white pine\n",
       "2430                                  Earthenware\n",
       "6406                                  Earthenware\n",
       "7616                                    Porcelain\n",
       "15012                         Watercolor on ivory\n",
       "                           ...                   \n",
       "779306                Commercial color lithograph\n",
       "785013                Commercial color lithograph\n",
       "813925          Sugar-lift aquatint with roulette\n",
       "820618                                  Engraving\n",
       "824428                                    Etching\n",
       "Name: Medium, Length: 196, dtype: object"
      ]
     },
     "execution_count": 118,
     "metadata": {},
     "output_type": "execute_result"
    }
   ],
   "source": [
    "museum_df['Medium']"
   ]
  },
  {
   "cell_type": "code",
   "execution_count": 119,
   "id": "22b94883",
   "metadata": {},
   "outputs": [],
   "source": [
    "#museum_df['Medium'] = museum_df.assign(museum_df=museum_df['Medium'].str.split('; ')).explode('Medium')"
   ]
  },
  {
   "cell_type": "code",
   "execution_count": 120,
   "id": "8c9f08da",
   "metadata": {},
   "outputs": [
    {
     "name": "stdout",
     "output_type": "stream",
     "text": [
      "<class 'pandas.core.frame.DataFrame'>\n",
      "Int64Index: 196 entries, 1674 to 824428\n",
      "Data columns (total 10 columns):\n",
      " #   Column              Non-Null Count  Dtype   \n",
      "---  ------              --------------  -----   \n",
      " 0   Department          196 non-null    category\n",
      " 1   Object Name         196 non-null    object  \n",
      " 2   Title               196 non-null    object  \n",
      " 3   Culture             196 non-null    object  \n",
      " 4   Artist Nationality  196 non-null    object  \n",
      " 5   Object Begin Date   196 non-null    int64   \n",
      " 6   Object End Date     196 non-null    int64   \n",
      " 7   Medium              196 non-null    object  \n",
      " 8   Credit Line         196 non-null    object  \n",
      " 9   Country             29 non-null     object  \n",
      "dtypes: category(1), int64(2), object(7)\n",
      "memory usage: 13.6+ KB\n"
     ]
    }
   ],
   "source": [
    "museum_df.info()"
   ]
  },
  {
   "cell_type": "markdown",
   "id": "11da6876",
   "metadata": {},
   "source": [
    "# Step 10: Processing Country Column"
   ]
  },
  {
   "cell_type": "code",
   "execution_count": 121,
   "id": "c49a716f",
   "metadata": {},
   "outputs": [
    {
     "data": {
      "text/plain": [
       "Object ID\n",
       "1674      United States\n",
       "2430      United States\n",
       "6406        Netherlands\n",
       "7616      United States\n",
       "15012               NaN\n",
       "              ...      \n",
       "779306              NaN\n",
       "785013              NaN\n",
       "813925              NaN\n",
       "820618              NaN\n",
       "824428              NaN\n",
       "Name: Country, Length: 196, dtype: object"
      ]
     },
     "execution_count": 121,
     "metadata": {},
     "output_type": "execute_result"
    }
   ],
   "source": [
    "museum_df['Country']"
   ]
  },
  {
   "cell_type": "code",
   "execution_count": 122,
   "id": "b76ec27f",
   "metadata": {},
   "outputs": [],
   "source": [
    "#filling missing values with \"Unknown\" as value\n",
    "\n",
    "museum_df['Country'].fillna('Unknown',inplace= True)"
   ]
  },
  {
   "cell_type": "markdown",
   "id": "b73c3386",
   "metadata": {},
   "source": [
    "* The Country column has 60-70% of missing values. To handle null value, \"Unknown\" is filled in as value. "
   ]
  },
  {
   "cell_type": "code",
   "execution_count": 123,
   "id": "67f434ef",
   "metadata": {},
   "outputs": [
    {
     "name": "stdout",
     "output_type": "stream",
     "text": [
      "<class 'pandas.core.frame.DataFrame'>\n",
      "Int64Index: 196 entries, 1674 to 824428\n",
      "Data columns (total 10 columns):\n",
      " #   Column              Non-Null Count  Dtype   \n",
      "---  ------              --------------  -----   \n",
      " 0   Department          196 non-null    category\n",
      " 1   Object Name         196 non-null    object  \n",
      " 2   Title               196 non-null    object  \n",
      " 3   Culture             196 non-null    object  \n",
      " 4   Artist Nationality  196 non-null    object  \n",
      " 5   Object Begin Date   196 non-null    int64   \n",
      " 6   Object End Date     196 non-null    int64   \n",
      " 7   Medium              196 non-null    object  \n",
      " 8   Credit Line         196 non-null    object  \n",
      " 9   Country             196 non-null    object  \n",
      "dtypes: category(1), int64(2), object(7)\n",
      "memory usage: 13.6+ KB\n"
     ]
    }
   ],
   "source": [
    "museum_df.info()"
   ]
  },
  {
   "cell_type": "code",
   "execution_count": 124,
   "id": "c475e7f2",
   "metadata": {},
   "outputs": [],
   "source": [
    "#replacing \"present-day \" with '' for standardizing it and remove whitespace from start and end.\n",
    "\n",
    "museum_df['Country'] = museum_df['Country'].str.replace('present-day ','').str.strip()"
   ]
  },
  {
   "cell_type": "code",
   "execution_count": 125,
   "id": "2c5ef12d",
   "metadata": {},
   "outputs": [],
   "source": [
    "museum_df['Country'] = museum_df['Country'].str.replace('United States','USA')"
   ]
  },
  {
   "cell_type": "code",
   "execution_count": 126,
   "id": "67c4c46d",
   "metadata": {},
   "outputs": [],
   "source": [
    "museum_df['Country'] = museum_df['Country'].astype(\"category\")"
   ]
  },
  {
   "cell_type": "markdown",
   "id": "340b49d3",
   "metadata": {},
   "source": [
    "* Removing additional words such as: **Present-day, United States, and Probably**"
   ]
  },
  {
   "cell_type": "code",
   "execution_count": 127,
   "id": "eef22105",
   "metadata": {},
   "outputs": [
    {
     "data": {
      "text/plain": [
       "Object ID\n",
       "1674              USA\n",
       "2430              USA\n",
       "6406      Netherlands\n",
       "7616              USA\n",
       "15012         Unknown\n",
       "             ...     \n",
       "779306        Unknown\n",
       "785013        Unknown\n",
       "813925        Unknown\n",
       "820618        Unknown\n",
       "824428        Unknown\n",
       "Name: Country, Length: 196, dtype: category\n",
       "Categories (13, object): ['Costa Rica', 'Egypt', 'France', 'India', ..., 'Peru', 'USA', 'Unknown', 'Uzbekistan']"
      ]
     },
     "execution_count": 127,
     "metadata": {},
     "output_type": "execute_result"
    }
   ],
   "source": [
    "museum_df['Country']"
   ]
  },
  {
   "cell_type": "markdown",
   "id": "ea098512",
   "metadata": {},
   "source": [
    "# Exporting Cleaned Dataset"
   ]
  },
  {
   "cell_type": "markdown",
   "id": "f93c5631",
   "metadata": {},
   "source": [
    "**After cleaning the dataset by undergoing all the above mentioned steps. Here, I have verified the Null counts and the data types.**"
   ]
  },
  {
   "cell_type": "code",
   "execution_count": 128,
   "id": "f99a15dc",
   "metadata": {
    "scrolled": true
   },
   "outputs": [
    {
     "name": "stdout",
     "output_type": "stream",
     "text": [
      "<class 'pandas.core.frame.DataFrame'>\n",
      "Int64Index: 196 entries, 1674 to 824428\n",
      "Data columns (total 10 columns):\n",
      " #   Column              Non-Null Count  Dtype   \n",
      "---  ------              --------------  -----   \n",
      " 0   Department          196 non-null    category\n",
      " 1   Object Name         196 non-null    object  \n",
      " 2   Title               196 non-null    object  \n",
      " 3   Culture             196 non-null    object  \n",
      " 4   Artist Nationality  196 non-null    object  \n",
      " 5   Object Begin Date   196 non-null    int64   \n",
      " 6   Object End Date     196 non-null    int64   \n",
      " 7   Medium              196 non-null    object  \n",
      " 8   Credit Line         196 non-null    object  \n",
      " 9   Country             196 non-null    category\n",
      "dtypes: category(2), int64(2), object(6)\n",
      "memory usage: 13.3+ KB\n"
     ]
    }
   ],
   "source": [
    "museum_df.info()"
   ]
  },
  {
   "cell_type": "markdown",
   "id": "7e00dd22",
   "metadata": {},
   "source": [
    "**Here I have exported the cleaned/ processed dataset**"
   ]
  },
  {
   "cell_type": "code",
   "execution_count": 129,
   "id": "fff75fa2",
   "metadata": {},
   "outputs": [],
   "source": [
    "museum_df.to_csv('cleaned_assignment_8717454.csv') # Writes to a CSV file"
   ]
  },
  {
   "cell_type": "markdown",
   "id": "71420a9d",
   "metadata": {},
   "source": [
    "* **Note:** The file will be created and stored in the same directory of this file."
   ]
  }
 ],
 "metadata": {
  "kernelspec": {
   "display_name": "Python 3 (ipykernel)",
   "language": "python",
   "name": "python3"
  },
  "language_info": {
   "codemirror_mode": {
    "name": "ipython",
    "version": 3
   },
   "file_extension": ".py",
   "mimetype": "text/x-python",
   "name": "python",
   "nbconvert_exporter": "python",
   "pygments_lexer": "ipython3",
   "version": "3.8.5"
  }
 },
 "nbformat": 4,
 "nbformat_minor": 5
}
